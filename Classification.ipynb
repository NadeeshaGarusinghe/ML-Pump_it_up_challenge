{
  "nbformat": 4,
  "nbformat_minor": 0,
  "metadata": {
    "colab": {
      "name": "test1.ipynb",
      "provenance": [],
      "collapsed_sections": [],
      "toc_visible": true
    },
    "kernelspec": {
      "name": "python3",
      "display_name": "Python 3"
    },
    "language_info": {
      "name": "python"
    }
  },
  "cells": [
    {
      "cell_type": "code",
      "metadata": {
        "colab": {
          "base_uri": "https://localhost:8080/"
        },
        "id": "Yb8mgZFokTCG",
        "outputId": "c70521aa-1735-4258-d1e2-22502c82d2ff"
      },
      
      "source": [
        "import numpy as np      # To use np.arrays\n",
        "import pandas as pd     # To use dataframes\n",
        "\n",
        "# To plot\n",
        "import matplotlib.pyplot as plt  \n",
        "%matplotlib inline        \n",
        "import seaborn as sns"
      ],
      "execution_count": 80,
      "outputs": []
    },
    {
      "cell_type": "code",
      "metadata": {
        "id": "TYlDmWBMMybP"
      },
      "source": [
        "df_train_set = pd.read_csv('Training_set_values.csv') # train set data\n",
        "df_train_labels = pd.read_csv('Training_set_labels.csv') #train set labels data\n",
        "df_test_set = pd.read_csv('Test_set_values.csv') #test set  data"
      ],
      "execution_count": 81,
      "outputs": []
    },
    {
      "cell_type": "code",
      "metadata": {
        "colab": {
          "base_uri": "https://localhost:8080/",
          "height": 409
        },
        "id": "WaKOcsXONNV5",
        "outputId": "d1eb2fa9-4c9f-48ca-fa12-8aa752c08e6e"
      },
      "source": [
        "df_train_set.head()"
      ],
      "execution_count": 82,
      "outputs": [
        {
          "output_type": "execute_result",
          "data": {
            "text/html": [
              "<div>\n",
              "<style scoped>\n",
              "    .dataframe tbody tr th:only-of-type {\n",
              "        vertical-align: middle;\n",
              "    }\n",
              "\n",
              "    .dataframe tbody tr th {\n",
              "        vertical-align: top;\n",
              "    }\n",
              "\n",
              "    .dataframe thead th {\n",
              "        text-align: right;\n",
              "    }\n",
              "</style>\n",
              "<table border=\"1\" class=\"dataframe\">\n",
              "  <thead>\n",
              "    <tr style=\"text-align: right;\">\n",
              "      <th></th>\n",
              "      <th>id</th>\n",
              "      <th>amount_tsh</th>\n",
              "      <th>date_recorded</th>\n",
              "      <th>funder</th>\n",
              "      <th>gps_height</th>\n",
              "      <th>installer</th>\n",
              "      <th>longitude</th>\n",
              "      <th>latitude</th>\n",
              "      <th>wpt_name</th>\n",
              "      <th>num_private</th>\n",
              "      <th>basin</th>\n",
              "      <th>subvillage</th>\n",
              "      <th>region</th>\n",
              "      <th>region_code</th>\n",
              "      <th>district_code</th>\n",
              "      <th>lga</th>\n",
              "      <th>ward</th>\n",
              "      <th>population</th>\n",
              "      <th>public_meeting</th>\n",
              "      <th>recorded_by</th>\n",
              "      <th>scheme_management</th>\n",
              "      <th>scheme_name</th>\n",
              "      <th>permit</th>\n",
              "      <th>construction_year</th>\n",
              "      <th>extraction_type</th>\n",
              "      <th>extraction_type_group</th>\n",
              "      <th>extraction_type_class</th>\n",
              "      <th>management</th>\n",
              "      <th>management_group</th>\n",
              "      <th>payment</th>\n",
              "      <th>payment_type</th>\n",
              "      <th>water_quality</th>\n",
              "      <th>quality_group</th>\n",
              "      <th>quantity</th>\n",
              "      <th>quantity_group</th>\n",
              "      <th>source</th>\n",
              "      <th>source_type</th>\n",
              "      <th>source_class</th>\n",
              "      <th>waterpoint_type</th>\n",
              "      <th>waterpoint_type_group</th>\n",
              "    </tr>\n",
              "  </thead>\n",
              "  <tbody>\n",
              "    <tr>\n",
              "      <th>0</th>\n",
              "      <td>69572</td>\n",
              "      <td>6000.0</td>\n",
              "      <td>2011-03-14</td>\n",
              "      <td>Roman</td>\n",
              "      <td>1390</td>\n",
              "      <td>Roman</td>\n",
              "      <td>34.938093</td>\n",
              "      <td>-9.856322</td>\n",
              "      <td>none</td>\n",
              "      <td>0</td>\n",
              "      <td>Lake Nyasa</td>\n",
              "      <td>Mnyusi B</td>\n",
              "      <td>Iringa</td>\n",
              "      <td>11</td>\n",
              "      <td>5</td>\n",
              "      <td>Ludewa</td>\n",
              "      <td>Mundindi</td>\n",
              "      <td>109</td>\n",
              "      <td>True</td>\n",
              "      <td>GeoData Consultants Ltd</td>\n",
              "      <td>VWC</td>\n",
              "      <td>Roman</td>\n",
              "      <td>False</td>\n",
              "      <td>1999</td>\n",
              "      <td>gravity</td>\n",
              "      <td>gravity</td>\n",
              "      <td>gravity</td>\n",
              "      <td>vwc</td>\n",
              "      <td>user-group</td>\n",
              "      <td>pay annually</td>\n",
              "      <td>annually</td>\n",
              "      <td>soft</td>\n",
              "      <td>good</td>\n",
              "      <td>enough</td>\n",
              "      <td>enough</td>\n",
              "      <td>spring</td>\n",
              "      <td>spring</td>\n",
              "      <td>groundwater</td>\n",
              "      <td>communal standpipe</td>\n",
              "      <td>communal standpipe</td>\n",
              "    </tr>\n",
              "    <tr>\n",
              "      <th>1</th>\n",
              "      <td>8776</td>\n",
              "      <td>0.0</td>\n",
              "      <td>2013-03-06</td>\n",
              "      <td>Grumeti</td>\n",
              "      <td>1399</td>\n",
              "      <td>GRUMETI</td>\n",
              "      <td>34.698766</td>\n",
              "      <td>-2.147466</td>\n",
              "      <td>Zahanati</td>\n",
              "      <td>0</td>\n",
              "      <td>Lake Victoria</td>\n",
              "      <td>Nyamara</td>\n",
              "      <td>Mara</td>\n",
              "      <td>20</td>\n",
              "      <td>2</td>\n",
              "      <td>Serengeti</td>\n",
              "      <td>Natta</td>\n",
              "      <td>280</td>\n",
              "      <td>NaN</td>\n",
              "      <td>GeoData Consultants Ltd</td>\n",
              "      <td>Other</td>\n",
              "      <td>NaN</td>\n",
              "      <td>True</td>\n",
              "      <td>2010</td>\n",
              "      <td>gravity</td>\n",
              "      <td>gravity</td>\n",
              "      <td>gravity</td>\n",
              "      <td>wug</td>\n",
              "      <td>user-group</td>\n",
              "      <td>never pay</td>\n",
              "      <td>never pay</td>\n",
              "      <td>soft</td>\n",
              "      <td>good</td>\n",
              "      <td>insufficient</td>\n",
              "      <td>insufficient</td>\n",
              "      <td>rainwater harvesting</td>\n",
              "      <td>rainwater harvesting</td>\n",
              "      <td>surface</td>\n",
              "      <td>communal standpipe</td>\n",
              "      <td>communal standpipe</td>\n",
              "    </tr>\n",
              "    <tr>\n",
              "      <th>2</th>\n",
              "      <td>34310</td>\n",
              "      <td>25.0</td>\n",
              "      <td>2013-02-25</td>\n",
              "      <td>Lottery Club</td>\n",
              "      <td>686</td>\n",
              "      <td>World vision</td>\n",
              "      <td>37.460664</td>\n",
              "      <td>-3.821329</td>\n",
              "      <td>Kwa Mahundi</td>\n",
              "      <td>0</td>\n",
              "      <td>Pangani</td>\n",
              "      <td>Majengo</td>\n",
              "      <td>Manyara</td>\n",
              "      <td>21</td>\n",
              "      <td>4</td>\n",
              "      <td>Simanjiro</td>\n",
              "      <td>Ngorika</td>\n",
              "      <td>250</td>\n",
              "      <td>True</td>\n",
              "      <td>GeoData Consultants Ltd</td>\n",
              "      <td>VWC</td>\n",
              "      <td>Nyumba ya mungu pipe scheme</td>\n",
              "      <td>True</td>\n",
              "      <td>2009</td>\n",
              "      <td>gravity</td>\n",
              "      <td>gravity</td>\n",
              "      <td>gravity</td>\n",
              "      <td>vwc</td>\n",
              "      <td>user-group</td>\n",
              "      <td>pay per bucket</td>\n",
              "      <td>per bucket</td>\n",
              "      <td>soft</td>\n",
              "      <td>good</td>\n",
              "      <td>enough</td>\n",
              "      <td>enough</td>\n",
              "      <td>dam</td>\n",
              "      <td>dam</td>\n",
              "      <td>surface</td>\n",
              "      <td>communal standpipe multiple</td>\n",
              "      <td>communal standpipe</td>\n",
              "    </tr>\n",
              "    <tr>\n",
              "      <th>3</th>\n",
              "      <td>67743</td>\n",
              "      <td>0.0</td>\n",
              "      <td>2013-01-28</td>\n",
              "      <td>Unicef</td>\n",
              "      <td>263</td>\n",
              "      <td>UNICEF</td>\n",
              "      <td>38.486161</td>\n",
              "      <td>-11.155298</td>\n",
              "      <td>Zahanati Ya Nanyumbu</td>\n",
              "      <td>0</td>\n",
              "      <td>Ruvuma / Southern Coast</td>\n",
              "      <td>Mahakamani</td>\n",
              "      <td>Mtwara</td>\n",
              "      <td>90</td>\n",
              "      <td>63</td>\n",
              "      <td>Nanyumbu</td>\n",
              "      <td>Nanyumbu</td>\n",
              "      <td>58</td>\n",
              "      <td>True</td>\n",
              "      <td>GeoData Consultants Ltd</td>\n",
              "      <td>VWC</td>\n",
              "      <td>NaN</td>\n",
              "      <td>True</td>\n",
              "      <td>1986</td>\n",
              "      <td>submersible</td>\n",
              "      <td>submersible</td>\n",
              "      <td>submersible</td>\n",
              "      <td>vwc</td>\n",
              "      <td>user-group</td>\n",
              "      <td>never pay</td>\n",
              "      <td>never pay</td>\n",
              "      <td>soft</td>\n",
              "      <td>good</td>\n",
              "      <td>dry</td>\n",
              "      <td>dry</td>\n",
              "      <td>machine dbh</td>\n",
              "      <td>borehole</td>\n",
              "      <td>groundwater</td>\n",
              "      <td>communal standpipe multiple</td>\n",
              "      <td>communal standpipe</td>\n",
              "    </tr>\n",
              "    <tr>\n",
              "      <th>4</th>\n",
              "      <td>19728</td>\n",
              "      <td>0.0</td>\n",
              "      <td>2011-07-13</td>\n",
              "      <td>Action In A</td>\n",
              "      <td>0</td>\n",
              "      <td>Artisan</td>\n",
              "      <td>31.130847</td>\n",
              "      <td>-1.825359</td>\n",
              "      <td>Shuleni</td>\n",
              "      <td>0</td>\n",
              "      <td>Lake Victoria</td>\n",
              "      <td>Kyanyamisa</td>\n",
              "      <td>Kagera</td>\n",
              "      <td>18</td>\n",
              "      <td>1</td>\n",
              "      <td>Karagwe</td>\n",
              "      <td>Nyakasimbi</td>\n",
              "      <td>0</td>\n",
              "      <td>True</td>\n",
              "      <td>GeoData Consultants Ltd</td>\n",
              "      <td>NaN</td>\n",
              "      <td>NaN</td>\n",
              "      <td>True</td>\n",
              "      <td>0</td>\n",
              "      <td>gravity</td>\n",
              "      <td>gravity</td>\n",
              "      <td>gravity</td>\n",
              "      <td>other</td>\n",
              "      <td>other</td>\n",
              "      <td>never pay</td>\n",
              "      <td>never pay</td>\n",
              "      <td>soft</td>\n",
              "      <td>good</td>\n",
              "      <td>seasonal</td>\n",
              "      <td>seasonal</td>\n",
              "      <td>rainwater harvesting</td>\n",
              "      <td>rainwater harvesting</td>\n",
              "      <td>surface</td>\n",
              "      <td>communal standpipe</td>\n",
              "      <td>communal standpipe</td>\n",
              "    </tr>\n",
              "  </tbody>\n",
              "</table>\n",
              "</div>"
            ],
            "text/plain": [
              "      id  amount_tsh  ...              waterpoint_type waterpoint_type_group\n",
              "0  69572      6000.0  ...           communal standpipe    communal standpipe\n",
              "1   8776         0.0  ...           communal standpipe    communal standpipe\n",
              "2  34310        25.0  ...  communal standpipe multiple    communal standpipe\n",
              "3  67743         0.0  ...  communal standpipe multiple    communal standpipe\n",
              "4  19728         0.0  ...           communal standpipe    communal standpipe\n",
              "\n",
              "[5 rows x 40 columns]"
            ]
          },
          "metadata": {},
          "execution_count": 82
        }
      ]
    },
    {
      "cell_type": "code",
      "metadata": {
        "colab": {
          "base_uri": "https://localhost:8080/"
        },
        "id": "FMmhIG5x1Xfq",
        "outputId": "98d6dd51-76c4-46e0-c320-228dfd568bed"
      },
      "source": [
        "df_train_set['funder'].value_counts().head(20)\n"
      ],
      "execution_count": 83,
      "outputs": [
        {
          "output_type": "execute_result",
          "data": {
            "text/plain": [
              "Government Of Tanzania    9084\n",
              "Danida                    3114\n",
              "Hesawa                    2202\n",
              "Rwssp                     1374\n",
              "World Bank                1349\n",
              "Kkkt                      1287\n",
              "World Vision              1246\n",
              "Unicef                    1057\n",
              "Tasaf                      877\n",
              "District Council           843\n",
              "Dhv                        829\n",
              "Private Individual         826\n",
              "Dwsp                       811\n",
              "0                          777\n",
              "Norad                      765\n",
              "Germany Republi            610\n",
              "Tcrs                       602\n",
              "Ministry Of Water          590\n",
              "Water                      583\n",
              "Dwe                        484\n",
              "Name: funder, dtype: int64"
            ]
          },
          "metadata": {},
          "execution_count": 83
        }
      ]
    },
    {
      "cell_type": "code",
      "metadata": {
        "colab": {
          "base_uri": "https://localhost:8080/",
          "height": 204
        },
        "id": "oKEIF75VNTX5",
        "outputId": "85ec4d80-4472-4f88-d2e4-0f96212550da"
      },
      "source": [
        "df_train_labels.head()"
      ],
      "execution_count": 84,
      "outputs": [
        {
          "output_type": "execute_result",
          "data": {
            "text/html": [
              "<div>\n",
              "<style scoped>\n",
              "    .dataframe tbody tr th:only-of-type {\n",
              "        vertical-align: middle;\n",
              "    }\n",
              "\n",
              "    .dataframe tbody tr th {\n",
              "        vertical-align: top;\n",
              "    }\n",
              "\n",
              "    .dataframe thead th {\n",
              "        text-align: right;\n",
              "    }\n",
              "</style>\n",
              "<table border=\"1\" class=\"dataframe\">\n",
              "  <thead>\n",
              "    <tr style=\"text-align: right;\">\n",
              "      <th></th>\n",
              "      <th>id</th>\n",
              "      <th>status_group</th>\n",
              "    </tr>\n",
              "  </thead>\n",
              "  <tbody>\n",
              "    <tr>\n",
              "      <th>0</th>\n",
              "      <td>69572</td>\n",
              "      <td>functional</td>\n",
              "    </tr>\n",
              "    <tr>\n",
              "      <th>1</th>\n",
              "      <td>8776</td>\n",
              "      <td>functional</td>\n",
              "    </tr>\n",
              "    <tr>\n",
              "      <th>2</th>\n",
              "      <td>34310</td>\n",
              "      <td>functional</td>\n",
              "    </tr>\n",
              "    <tr>\n",
              "      <th>3</th>\n",
              "      <td>67743</td>\n",
              "      <td>non functional</td>\n",
              "    </tr>\n",
              "    <tr>\n",
              "      <th>4</th>\n",
              "      <td>19728</td>\n",
              "      <td>functional</td>\n",
              "    </tr>\n",
              "  </tbody>\n",
              "</table>\n",
              "</div>"
            ],
            "text/plain": [
              "      id    status_group\n",
              "0  69572      functional\n",
              "1   8776      functional\n",
              "2  34310      functional\n",
              "3  67743  non functional\n",
              "4  19728      functional"
            ]
          },
          "metadata": {},
          "execution_count": 84
        }
      ]
    },
    {
      "cell_type": "code",
      "metadata": {
        "colab": {
          "base_uri": "https://localhost:8080/",
          "height": 426
        },
        "id": "82DydBemkuEo",
        "outputId": "b3805f06-84e0-4e6f-ad5c-3510fc159247"
      },
      "source": [
        "df_test_set.head()"
      ],
      "execution_count": 85,
      "outputs": [
        {
          "output_type": "execute_result",
          "data": {
            "text/html": [
              "<div>\n",
              "<style scoped>\n",
              "    .dataframe tbody tr th:only-of-type {\n",
              "        vertical-align: middle;\n",
              "    }\n",
              "\n",
              "    .dataframe tbody tr th {\n",
              "        vertical-align: top;\n",
              "    }\n",
              "\n",
              "    .dataframe thead th {\n",
              "        text-align: right;\n",
              "    }\n",
              "</style>\n",
              "<table border=\"1\" class=\"dataframe\">\n",
              "  <thead>\n",
              "    <tr style=\"text-align: right;\">\n",
              "      <th></th>\n",
              "      <th>id</th>\n",
              "      <th>amount_tsh</th>\n",
              "      <th>date_recorded</th>\n",
              "      <th>funder</th>\n",
              "      <th>gps_height</th>\n",
              "      <th>installer</th>\n",
              "      <th>longitude</th>\n",
              "      <th>latitude</th>\n",
              "      <th>wpt_name</th>\n",
              "      <th>num_private</th>\n",
              "      <th>basin</th>\n",
              "      <th>subvillage</th>\n",
              "      <th>region</th>\n",
              "      <th>region_code</th>\n",
              "      <th>district_code</th>\n",
              "      <th>lga</th>\n",
              "      <th>ward</th>\n",
              "      <th>population</th>\n",
              "      <th>public_meeting</th>\n",
              "      <th>recorded_by</th>\n",
              "      <th>scheme_management</th>\n",
              "      <th>scheme_name</th>\n",
              "      <th>permit</th>\n",
              "      <th>construction_year</th>\n",
              "      <th>extraction_type</th>\n",
              "      <th>extraction_type_group</th>\n",
              "      <th>extraction_type_class</th>\n",
              "      <th>management</th>\n",
              "      <th>management_group</th>\n",
              "      <th>payment</th>\n",
              "      <th>payment_type</th>\n",
              "      <th>water_quality</th>\n",
              "      <th>quality_group</th>\n",
              "      <th>quantity</th>\n",
              "      <th>quantity_group</th>\n",
              "      <th>source</th>\n",
              "      <th>source_type</th>\n",
              "      <th>source_class</th>\n",
              "      <th>waterpoint_type</th>\n",
              "      <th>waterpoint_type_group</th>\n",
              "    </tr>\n",
              "  </thead>\n",
              "  <tbody>\n",
              "    <tr>\n",
              "      <th>0</th>\n",
              "      <td>50785</td>\n",
              "      <td>0.0</td>\n",
              "      <td>2013-02-04</td>\n",
              "      <td>Dmdd</td>\n",
              "      <td>1996</td>\n",
              "      <td>DMDD</td>\n",
              "      <td>35.290799</td>\n",
              "      <td>-4.059696</td>\n",
              "      <td>Dinamu Secondary School</td>\n",
              "      <td>0</td>\n",
              "      <td>Internal</td>\n",
              "      <td>Magoma</td>\n",
              "      <td>Manyara</td>\n",
              "      <td>21</td>\n",
              "      <td>3</td>\n",
              "      <td>Mbulu</td>\n",
              "      <td>Bashay</td>\n",
              "      <td>321</td>\n",
              "      <td>True</td>\n",
              "      <td>GeoData Consultants Ltd</td>\n",
              "      <td>Parastatal</td>\n",
              "      <td>NaN</td>\n",
              "      <td>True</td>\n",
              "      <td>2012</td>\n",
              "      <td>other</td>\n",
              "      <td>other</td>\n",
              "      <td>other</td>\n",
              "      <td>parastatal</td>\n",
              "      <td>parastatal</td>\n",
              "      <td>never pay</td>\n",
              "      <td>never pay</td>\n",
              "      <td>soft</td>\n",
              "      <td>good</td>\n",
              "      <td>seasonal</td>\n",
              "      <td>seasonal</td>\n",
              "      <td>rainwater harvesting</td>\n",
              "      <td>rainwater harvesting</td>\n",
              "      <td>surface</td>\n",
              "      <td>other</td>\n",
              "      <td>other</td>\n",
              "    </tr>\n",
              "    <tr>\n",
              "      <th>1</th>\n",
              "      <td>51630</td>\n",
              "      <td>0.0</td>\n",
              "      <td>2013-02-04</td>\n",
              "      <td>Government Of Tanzania</td>\n",
              "      <td>1569</td>\n",
              "      <td>DWE</td>\n",
              "      <td>36.656709</td>\n",
              "      <td>-3.309214</td>\n",
              "      <td>Kimnyak</td>\n",
              "      <td>0</td>\n",
              "      <td>Pangani</td>\n",
              "      <td>Kimnyak</td>\n",
              "      <td>Arusha</td>\n",
              "      <td>2</td>\n",
              "      <td>2</td>\n",
              "      <td>Arusha Rural</td>\n",
              "      <td>Kimnyaki</td>\n",
              "      <td>300</td>\n",
              "      <td>True</td>\n",
              "      <td>GeoData Consultants Ltd</td>\n",
              "      <td>VWC</td>\n",
              "      <td>TPRI pipe line</td>\n",
              "      <td>True</td>\n",
              "      <td>2000</td>\n",
              "      <td>gravity</td>\n",
              "      <td>gravity</td>\n",
              "      <td>gravity</td>\n",
              "      <td>vwc</td>\n",
              "      <td>user-group</td>\n",
              "      <td>never pay</td>\n",
              "      <td>never pay</td>\n",
              "      <td>soft</td>\n",
              "      <td>good</td>\n",
              "      <td>insufficient</td>\n",
              "      <td>insufficient</td>\n",
              "      <td>spring</td>\n",
              "      <td>spring</td>\n",
              "      <td>groundwater</td>\n",
              "      <td>communal standpipe</td>\n",
              "      <td>communal standpipe</td>\n",
              "    </tr>\n",
              "    <tr>\n",
              "      <th>2</th>\n",
              "      <td>17168</td>\n",
              "      <td>0.0</td>\n",
              "      <td>2013-02-01</td>\n",
              "      <td>NaN</td>\n",
              "      <td>1567</td>\n",
              "      <td>NaN</td>\n",
              "      <td>34.767863</td>\n",
              "      <td>-5.004344</td>\n",
              "      <td>Puma Secondary</td>\n",
              "      <td>0</td>\n",
              "      <td>Internal</td>\n",
              "      <td>Msatu</td>\n",
              "      <td>Singida</td>\n",
              "      <td>13</td>\n",
              "      <td>2</td>\n",
              "      <td>Singida Rural</td>\n",
              "      <td>Puma</td>\n",
              "      <td>500</td>\n",
              "      <td>True</td>\n",
              "      <td>GeoData Consultants Ltd</td>\n",
              "      <td>VWC</td>\n",
              "      <td>P</td>\n",
              "      <td>NaN</td>\n",
              "      <td>2010</td>\n",
              "      <td>other</td>\n",
              "      <td>other</td>\n",
              "      <td>other</td>\n",
              "      <td>vwc</td>\n",
              "      <td>user-group</td>\n",
              "      <td>never pay</td>\n",
              "      <td>never pay</td>\n",
              "      <td>soft</td>\n",
              "      <td>good</td>\n",
              "      <td>insufficient</td>\n",
              "      <td>insufficient</td>\n",
              "      <td>rainwater harvesting</td>\n",
              "      <td>rainwater harvesting</td>\n",
              "      <td>surface</td>\n",
              "      <td>other</td>\n",
              "      <td>other</td>\n",
              "    </tr>\n",
              "    <tr>\n",
              "      <th>3</th>\n",
              "      <td>45559</td>\n",
              "      <td>0.0</td>\n",
              "      <td>2013-01-22</td>\n",
              "      <td>Finn Water</td>\n",
              "      <td>267</td>\n",
              "      <td>FINN WATER</td>\n",
              "      <td>38.058046</td>\n",
              "      <td>-9.418672</td>\n",
              "      <td>Kwa Mzee Pange</td>\n",
              "      <td>0</td>\n",
              "      <td>Ruvuma / Southern Coast</td>\n",
              "      <td>Kipindimbi</td>\n",
              "      <td>Lindi</td>\n",
              "      <td>80</td>\n",
              "      <td>43</td>\n",
              "      <td>Liwale</td>\n",
              "      <td>Mkutano</td>\n",
              "      <td>250</td>\n",
              "      <td>NaN</td>\n",
              "      <td>GeoData Consultants Ltd</td>\n",
              "      <td>VWC</td>\n",
              "      <td>NaN</td>\n",
              "      <td>True</td>\n",
              "      <td>1987</td>\n",
              "      <td>other</td>\n",
              "      <td>other</td>\n",
              "      <td>other</td>\n",
              "      <td>vwc</td>\n",
              "      <td>user-group</td>\n",
              "      <td>unknown</td>\n",
              "      <td>unknown</td>\n",
              "      <td>soft</td>\n",
              "      <td>good</td>\n",
              "      <td>dry</td>\n",
              "      <td>dry</td>\n",
              "      <td>shallow well</td>\n",
              "      <td>shallow well</td>\n",
              "      <td>groundwater</td>\n",
              "      <td>other</td>\n",
              "      <td>other</td>\n",
              "    </tr>\n",
              "    <tr>\n",
              "      <th>4</th>\n",
              "      <td>49871</td>\n",
              "      <td>500.0</td>\n",
              "      <td>2013-03-27</td>\n",
              "      <td>Bruder</td>\n",
              "      <td>1260</td>\n",
              "      <td>BRUDER</td>\n",
              "      <td>35.006123</td>\n",
              "      <td>-10.950412</td>\n",
              "      <td>Kwa Mzee Turuka</td>\n",
              "      <td>0</td>\n",
              "      <td>Ruvuma / Southern Coast</td>\n",
              "      <td>Losonga</td>\n",
              "      <td>Ruvuma</td>\n",
              "      <td>10</td>\n",
              "      <td>3</td>\n",
              "      <td>Mbinga</td>\n",
              "      <td>Mbinga Urban</td>\n",
              "      <td>60</td>\n",
              "      <td>NaN</td>\n",
              "      <td>GeoData Consultants Ltd</td>\n",
              "      <td>Water Board</td>\n",
              "      <td>BRUDER</td>\n",
              "      <td>True</td>\n",
              "      <td>2000</td>\n",
              "      <td>gravity</td>\n",
              "      <td>gravity</td>\n",
              "      <td>gravity</td>\n",
              "      <td>water board</td>\n",
              "      <td>user-group</td>\n",
              "      <td>pay monthly</td>\n",
              "      <td>monthly</td>\n",
              "      <td>soft</td>\n",
              "      <td>good</td>\n",
              "      <td>enough</td>\n",
              "      <td>enough</td>\n",
              "      <td>spring</td>\n",
              "      <td>spring</td>\n",
              "      <td>groundwater</td>\n",
              "      <td>communal standpipe</td>\n",
              "      <td>communal standpipe</td>\n",
              "    </tr>\n",
              "  </tbody>\n",
              "</table>\n",
              "</div>"
            ],
            "text/plain": [
              "      id  amount_tsh  ...     waterpoint_type waterpoint_type_group\n",
              "0  50785         0.0  ...               other                 other\n",
              "1  51630         0.0  ...  communal standpipe    communal standpipe\n",
              "2  17168         0.0  ...               other                 other\n",
              "3  45559         0.0  ...               other                 other\n",
              "4  49871       500.0  ...  communal standpipe    communal standpipe\n",
              "\n",
              "[5 rows x 40 columns]"
            ]
          },
          "metadata": {},
          "execution_count": 85
        }
      ]
    },
    {
      "cell_type": "code",
      "metadata": {
        "colab": {
          "base_uri": "https://localhost:8080/"
        },
        "id": "TnuorTpDNvQo",
        "outputId": "6a6528bc-f12e-4bbf-9b73-7dd63ed5e9ec"
      },
      "source": [
        "df_train_set.info() #to see the types of the columns\n"
      ],
      "execution_count": 86,
      "outputs": [
        {
          "output_type": "stream",
          "name": "stdout",
          "text": [
            "<class 'pandas.core.frame.DataFrame'>\n",
            "RangeIndex: 59400 entries, 0 to 59399\n",
            "Data columns (total 40 columns):\n",
            " #   Column                 Non-Null Count  Dtype  \n",
            "---  ------                 --------------  -----  \n",
            " 0   id                     59400 non-null  int64  \n",
            " 1   amount_tsh             59400 non-null  float64\n",
            " 2   date_recorded          59400 non-null  object \n",
            " 3   funder                 55765 non-null  object \n",
            " 4   gps_height             59400 non-null  int64  \n",
            " 5   installer              55745 non-null  object \n",
            " 6   longitude              59400 non-null  float64\n",
            " 7   latitude               59400 non-null  float64\n",
            " 8   wpt_name               59400 non-null  object \n",
            " 9   num_private            59400 non-null  int64  \n",
            " 10  basin                  59400 non-null  object \n",
            " 11  subvillage             59029 non-null  object \n",
            " 12  region                 59400 non-null  object \n",
            " 13  region_code            59400 non-null  int64  \n",
            " 14  district_code          59400 non-null  int64  \n",
            " 15  lga                    59400 non-null  object \n",
            " 16  ward                   59400 non-null  object \n",
            " 17  population             59400 non-null  int64  \n",
            " 18  public_meeting         56066 non-null  object \n",
            " 19  recorded_by            59400 non-null  object \n",
            " 20  scheme_management      55523 non-null  object \n",
            " 21  scheme_name            31234 non-null  object \n",
            " 22  permit                 56344 non-null  object \n",
            " 23  construction_year      59400 non-null  int64  \n",
            " 24  extraction_type        59400 non-null  object \n",
            " 25  extraction_type_group  59400 non-null  object \n",
            " 26  extraction_type_class  59400 non-null  object \n",
            " 27  management             59400 non-null  object \n",
            " 28  management_group       59400 non-null  object \n",
            " 29  payment                59400 non-null  object \n",
            " 30  payment_type           59400 non-null  object \n",
            " 31  water_quality          59400 non-null  object \n",
            " 32  quality_group          59400 non-null  object \n",
            " 33  quantity               59400 non-null  object \n",
            " 34  quantity_group         59400 non-null  object \n",
            " 35  source                 59400 non-null  object \n",
            " 36  source_type            59400 non-null  object \n",
            " 37  source_class           59400 non-null  object \n",
            " 38  waterpoint_type        59400 non-null  object \n",
            " 39  waterpoint_type_group  59400 non-null  object \n",
            "dtypes: float64(3), int64(7), object(30)\n",
            "memory usage: 18.1+ MB\n"
          ]
        }
      ]
    },
    {
      "cell_type": "code",
      "metadata": {
        "colab": {
          "base_uri": "https://localhost:8080/"
        },
        "id": "bim2SsEsN6Du",
        "outputId": "3f1733d3-7fb6-48a2-8671-0370a7950863"
      },
      "source": [
        "df_train_set.isna().sum() # to see the null values\n"
      ],
      "execution_count": 87,
      "outputs": [
        {
          "output_type": "execute_result",
          "data": {
            "text/plain": [
              "id                           0\n",
              "amount_tsh                   0\n",
              "date_recorded                0\n",
              "funder                    3635\n",
              "gps_height                   0\n",
              "installer                 3655\n",
              "longitude                    0\n",
              "latitude                     0\n",
              "wpt_name                     0\n",
              "num_private                  0\n",
              "basin                        0\n",
              "subvillage                 371\n",
              "region                       0\n",
              "region_code                  0\n",
              "district_code                0\n",
              "lga                          0\n",
              "ward                         0\n",
              "population                   0\n",
              "public_meeting            3334\n",
              "recorded_by                  0\n",
              "scheme_management         3877\n",
              "scheme_name              28166\n",
              "permit                    3056\n",
              "construction_year            0\n",
              "extraction_type              0\n",
              "extraction_type_group        0\n",
              "extraction_type_class        0\n",
              "management                   0\n",
              "management_group             0\n",
              "payment                      0\n",
              "payment_type                 0\n",
              "water_quality                0\n",
              "quality_group                0\n",
              "quantity                     0\n",
              "quantity_group               0\n",
              "source                       0\n",
              "source_type                  0\n",
              "source_class                 0\n",
              "waterpoint_type              0\n",
              "waterpoint_type_group        0\n",
              "dtype: int64"
            ]
          },
          "metadata": {},
          "execution_count": 87
        }
      ]
    },
    {
      "cell_type": "code",
      "metadata": {
        "colab": {
          "base_uri": "https://localhost:8080/"
        },
        "id": "5YoXFLUhk9fw",
        "outputId": "476994bf-69d2-4269-f95f-ed0d740cd935"
      },
      "source": [
        "df_test_set.isna().sum()"
      ],
      "execution_count": 88,
      "outputs": [
        {
          "output_type": "execute_result",
          "data": {
            "text/plain": [
              "id                          0\n",
              "amount_tsh                  0\n",
              "date_recorded               0\n",
              "funder                    869\n",
              "gps_height                  0\n",
              "installer                 877\n",
              "longitude                   0\n",
              "latitude                    0\n",
              "wpt_name                    0\n",
              "num_private                 0\n",
              "basin                       0\n",
              "subvillage                 99\n",
              "region                      0\n",
              "region_code                 0\n",
              "district_code               0\n",
              "lga                         0\n",
              "ward                        0\n",
              "population                  0\n",
              "public_meeting            821\n",
              "recorded_by                 0\n",
              "scheme_management         969\n",
              "scheme_name              7092\n",
              "permit                    737\n",
              "construction_year           0\n",
              "extraction_type             0\n",
              "extraction_type_group       0\n",
              "extraction_type_class       0\n",
              "management                  0\n",
              "management_group            0\n",
              "payment                     0\n",
              "payment_type                0\n",
              "water_quality               0\n",
              "quality_group               0\n",
              "quantity                    0\n",
              "quantity_group              0\n",
              "source                      0\n",
              "source_type                 0\n",
              "source_class                0\n",
              "waterpoint_type             0\n",
              "waterpoint_type_group       0\n",
              "dtype: int64"
            ]
          },
          "metadata": {},
          "execution_count": 88
        }
      ]
    },
    {
      "cell_type": "code",
      "metadata": {
        "colab": {
          "base_uri": "https://localhost:8080/",
          "height": 296
        },
        "id": "JhzI1esROCOb",
        "outputId": "c50ca1f7-a749-4823-cd8c-8b36575c4677"
      },
      "source": [
        "df_train_set.describe() # to see numeric columns detailed\n"
      ],
      "execution_count": 89,
      "outputs": [
        {
          "output_type": "execute_result",
          "data": {
            "text/html": [
              "<div>\n",
              "<style scoped>\n",
              "    .dataframe tbody tr th:only-of-type {\n",
              "        vertical-align: middle;\n",
              "    }\n",
              "\n",
              "    .dataframe tbody tr th {\n",
              "        vertical-align: top;\n",
              "    }\n",
              "\n",
              "    .dataframe thead th {\n",
              "        text-align: right;\n",
              "    }\n",
              "</style>\n",
              "<table border=\"1\" class=\"dataframe\">\n",
              "  <thead>\n",
              "    <tr style=\"text-align: right;\">\n",
              "      <th></th>\n",
              "      <th>id</th>\n",
              "      <th>amount_tsh</th>\n",
              "      <th>gps_height</th>\n",
              "      <th>longitude</th>\n",
              "      <th>latitude</th>\n",
              "      <th>num_private</th>\n",
              "      <th>region_code</th>\n",
              "      <th>district_code</th>\n",
              "      <th>population</th>\n",
              "      <th>construction_year</th>\n",
              "    </tr>\n",
              "  </thead>\n",
              "  <tbody>\n",
              "    <tr>\n",
              "      <th>count</th>\n",
              "      <td>59400.000000</td>\n",
              "      <td>59400.000000</td>\n",
              "      <td>59400.000000</td>\n",
              "      <td>59400.000000</td>\n",
              "      <td>5.940000e+04</td>\n",
              "      <td>59400.000000</td>\n",
              "      <td>59400.000000</td>\n",
              "      <td>59400.000000</td>\n",
              "      <td>59400.000000</td>\n",
              "      <td>59400.000000</td>\n",
              "    </tr>\n",
              "    <tr>\n",
              "      <th>mean</th>\n",
              "      <td>37115.131768</td>\n",
              "      <td>317.650385</td>\n",
              "      <td>668.297239</td>\n",
              "      <td>34.077427</td>\n",
              "      <td>-5.706033e+00</td>\n",
              "      <td>0.474141</td>\n",
              "      <td>15.297003</td>\n",
              "      <td>5.629747</td>\n",
              "      <td>179.909983</td>\n",
              "      <td>1300.652475</td>\n",
              "    </tr>\n",
              "    <tr>\n",
              "      <th>std</th>\n",
              "      <td>21453.128371</td>\n",
              "      <td>2997.574558</td>\n",
              "      <td>693.116350</td>\n",
              "      <td>6.567432</td>\n",
              "      <td>2.946019e+00</td>\n",
              "      <td>12.236230</td>\n",
              "      <td>17.587406</td>\n",
              "      <td>9.633649</td>\n",
              "      <td>471.482176</td>\n",
              "      <td>951.620547</td>\n",
              "    </tr>\n",
              "    <tr>\n",
              "      <th>min</th>\n",
              "      <td>0.000000</td>\n",
              "      <td>0.000000</td>\n",
              "      <td>-90.000000</td>\n",
              "      <td>0.000000</td>\n",
              "      <td>-1.164944e+01</td>\n",
              "      <td>0.000000</td>\n",
              "      <td>1.000000</td>\n",
              "      <td>0.000000</td>\n",
              "      <td>0.000000</td>\n",
              "      <td>0.000000</td>\n",
              "    </tr>\n",
              "    <tr>\n",
              "      <th>25%</th>\n",
              "      <td>18519.750000</td>\n",
              "      <td>0.000000</td>\n",
              "      <td>0.000000</td>\n",
              "      <td>33.090347</td>\n",
              "      <td>-8.540621e+00</td>\n",
              "      <td>0.000000</td>\n",
              "      <td>5.000000</td>\n",
              "      <td>2.000000</td>\n",
              "      <td>0.000000</td>\n",
              "      <td>0.000000</td>\n",
              "    </tr>\n",
              "    <tr>\n",
              "      <th>50%</th>\n",
              "      <td>37061.500000</td>\n",
              "      <td>0.000000</td>\n",
              "      <td>369.000000</td>\n",
              "      <td>34.908743</td>\n",
              "      <td>-5.021597e+00</td>\n",
              "      <td>0.000000</td>\n",
              "      <td>12.000000</td>\n",
              "      <td>3.000000</td>\n",
              "      <td>25.000000</td>\n",
              "      <td>1986.000000</td>\n",
              "    </tr>\n",
              "    <tr>\n",
              "      <th>75%</th>\n",
              "      <td>55656.500000</td>\n",
              "      <td>20.000000</td>\n",
              "      <td>1319.250000</td>\n",
              "      <td>37.178387</td>\n",
              "      <td>-3.326156e+00</td>\n",
              "      <td>0.000000</td>\n",
              "      <td>17.000000</td>\n",
              "      <td>5.000000</td>\n",
              "      <td>215.000000</td>\n",
              "      <td>2004.000000</td>\n",
              "    </tr>\n",
              "    <tr>\n",
              "      <th>max</th>\n",
              "      <td>74247.000000</td>\n",
              "      <td>350000.000000</td>\n",
              "      <td>2770.000000</td>\n",
              "      <td>40.345193</td>\n",
              "      <td>-2.000000e-08</td>\n",
              "      <td>1776.000000</td>\n",
              "      <td>99.000000</td>\n",
              "      <td>80.000000</td>\n",
              "      <td>30500.000000</td>\n",
              "      <td>2013.000000</td>\n",
              "    </tr>\n",
              "  </tbody>\n",
              "</table>\n",
              "</div>"
            ],
            "text/plain": [
              "                 id     amount_tsh  ...    population  construction_year\n",
              "count  59400.000000   59400.000000  ...  59400.000000       59400.000000\n",
              "mean   37115.131768     317.650385  ...    179.909983        1300.652475\n",
              "std    21453.128371    2997.574558  ...    471.482176         951.620547\n",
              "min        0.000000       0.000000  ...      0.000000           0.000000\n",
              "25%    18519.750000       0.000000  ...      0.000000           0.000000\n",
              "50%    37061.500000       0.000000  ...     25.000000        1986.000000\n",
              "75%    55656.500000      20.000000  ...    215.000000        2004.000000\n",
              "max    74247.000000  350000.000000  ...  30500.000000        2013.000000\n",
              "\n",
              "[8 rows x 10 columns]"
            ]
          },
          "metadata": {},
          "execution_count": 89
        }
      ]
    },
    {
      "cell_type": "code",
      "metadata": {
        "colab": {
          "base_uri": "https://localhost:8080/"
        },
        "id": "1tJkEXdhOSSb",
        "outputId": "95f2da11-4273-4cc4-ceb1-c6cdb2aa171f"
      },
      "source": [
        "df_train_labels['status_group'].value_counts()\n"
      ],
      "execution_count": 90,
      "outputs": [
        {
          "output_type": "execute_result",
          "data": {
            "text/plain": [
              "functional                 32259\n",
              "non functional             22824\n",
              "functional needs repair     4317\n",
              "Name: status_group, dtype: int64"
            ]
          },
          "metadata": {},
          "execution_count": 90
        }
      ]
    },
    {
      "cell_type": "markdown",
      "metadata": {
        "id": "bvC5xrkBuk1y"
      },
      "source": [
        "# Dealing with missing values"
      ]
    },
    {
      "cell_type": "code",
      "metadata": {
        "id": "rYlSM5KSPntP"
      },
      "source": [
        "df_train_set['funder'].fillna('unknown',inplace=True)  # filling null values with 'unknown'\n",
        "df_train_set['installer'].fillna('unknown',inplace=True) \n",
        "df_train_set['subvillage'].fillna('unknown',inplace=True)  \n",
        "df_train_set['public_meeting'].fillna(True,inplace=True)\n",
        "df_train_set['scheme_management'].fillna('unknown',inplace=True)\n",
        "df_train_set['scheme_name'].fillna('unknown',inplace=True)\n",
        "df_train_set['permit'].fillna(True,inplace=True)\n"
      ],
      "execution_count": 91,
      "outputs": []
    },
    {
      "cell_type": "code",
      "metadata": {
        "id": "Z9zBnkORldNB"
      },
      "source": [
        "df_test_set['funder'].fillna('unknown',inplace=True)  # filling null values with '0'\n",
        "df_test_set['installer'].fillna('unknown',inplace=True)\n",
        "df_test_set['subvillage'].fillna('unknown',inplace=True)\n",
        "df_test_set['public_meeting'].fillna(True,inplace=True)\n",
        "df_test_set['scheme_management'].fillna('unknown',inplace=True)\n",
        "df_test_set['scheme_name'].fillna('unknown',inplace=True)\n",
        "df_test_set['permit'].fillna(True,inplace=True)"
      ],
      "execution_count": 92,
      "outputs": []
    },
    {
      "cell_type": "code",
      "metadata": {
        "colab": {
          "base_uri": "https://localhost:8080/"
        },
        "id": "1eVpmO5dl_iR",
        "outputId": "dc1d69ab-087f-4afc-91ca-fd853a071658"
      },
      "source": [
        "df_test_set.isna().sum()"
      ],
      "execution_count": 93,
      "outputs": [
        {
          "output_type": "execute_result",
          "data": {
            "text/plain": [
              "id                       0\n",
              "amount_tsh               0\n",
              "date_recorded            0\n",
              "funder                   0\n",
              "gps_height               0\n",
              "installer                0\n",
              "longitude                0\n",
              "latitude                 0\n",
              "wpt_name                 0\n",
              "num_private              0\n",
              "basin                    0\n",
              "subvillage               0\n",
              "region                   0\n",
              "region_code              0\n",
              "district_code            0\n",
              "lga                      0\n",
              "ward                     0\n",
              "population               0\n",
              "public_meeting           0\n",
              "recorded_by              0\n",
              "scheme_management        0\n",
              "scheme_name              0\n",
              "permit                   0\n",
              "construction_year        0\n",
              "extraction_type          0\n",
              "extraction_type_group    0\n",
              "extraction_type_class    0\n",
              "management               0\n",
              "management_group         0\n",
              "payment                  0\n",
              "payment_type             0\n",
              "water_quality            0\n",
              "quality_group            0\n",
              "quantity                 0\n",
              "quantity_group           0\n",
              "source                   0\n",
              "source_type              0\n",
              "source_class             0\n",
              "waterpoint_type          0\n",
              "waterpoint_type_group    0\n",
              "dtype: int64"
            ]
          },
          "metadata": {},
          "execution_count": 93
        }
      ]
    },
    {
      "cell_type": "code",
      "metadata": {
        "colab": {
          "base_uri": "https://localhost:8080/"
        },
        "id": "ejQaht9UUt1P",
        "outputId": "77e56bfa-1c4d-4cdd-9c06-163d7baad4f1"
      },
      "source": [
        "df_train_set.isna().sum() # to see the null values\n"
      ],
      "execution_count": 94,
      "outputs": [
        {
          "output_type": "execute_result",
          "data": {
            "text/plain": [
              "id                       0\n",
              "amount_tsh               0\n",
              "date_recorded            0\n",
              "funder                   0\n",
              "gps_height               0\n",
              "installer                0\n",
              "longitude                0\n",
              "latitude                 0\n",
              "wpt_name                 0\n",
              "num_private              0\n",
              "basin                    0\n",
              "subvillage               0\n",
              "region                   0\n",
              "region_code              0\n",
              "district_code            0\n",
              "lga                      0\n",
              "ward                     0\n",
              "population               0\n",
              "public_meeting           0\n",
              "recorded_by              0\n",
              "scheme_management        0\n",
              "scheme_name              0\n",
              "permit                   0\n",
              "construction_year        0\n",
              "extraction_type          0\n",
              "extraction_type_group    0\n",
              "extraction_type_class    0\n",
              "management               0\n",
              "management_group         0\n",
              "payment                  0\n",
              "payment_type             0\n",
              "water_quality            0\n",
              "quality_group            0\n",
              "quantity                 0\n",
              "quantity_group           0\n",
              "source                   0\n",
              "source_type              0\n",
              "source_class             0\n",
              "waterpoint_type          0\n",
              "waterpoint_type_group    0\n",
              "dtype: int64"
            ]
          },
          "metadata": {},
          "execution_count": 94
        }
      ]
    },
    {
      "cell_type": "code",
      "metadata": {
        "colab": {
          "base_uri": "https://localhost:8080/"
        },
        "id": "d1TkBebvyQpK",
        "outputId": "cd898ce6-5ffa-41b8-dfe2-d11e5dddefa8"
      },
      "source": [
        "df_train_set.info()"
      ],
      "execution_count": 95,
      "outputs": [
        {
          "output_type": "stream",
          "name": "stdout",
          "text": [
            "<class 'pandas.core.frame.DataFrame'>\n",
            "RangeIndex: 59400 entries, 0 to 59399\n",
            "Data columns (total 40 columns):\n",
            " #   Column                 Non-Null Count  Dtype  \n",
            "---  ------                 --------------  -----  \n",
            " 0   id                     59400 non-null  int64  \n",
            " 1   amount_tsh             59400 non-null  float64\n",
            " 2   date_recorded          59400 non-null  object \n",
            " 3   funder                 59400 non-null  object \n",
            " 4   gps_height             59400 non-null  int64  \n",
            " 5   installer              59400 non-null  object \n",
            " 6   longitude              59400 non-null  float64\n",
            " 7   latitude               59400 non-null  float64\n",
            " 8   wpt_name               59400 non-null  object \n",
            " 9   num_private            59400 non-null  int64  \n",
            " 10  basin                  59400 non-null  object \n",
            " 11  subvillage             59400 non-null  object \n",
            " 12  region                 59400 non-null  object \n",
            " 13  region_code            59400 non-null  int64  \n",
            " 14  district_code          59400 non-null  int64  \n",
            " 15  lga                    59400 non-null  object \n",
            " 16  ward                   59400 non-null  object \n",
            " 17  population             59400 non-null  int64  \n",
            " 18  public_meeting         59400 non-null  bool   \n",
            " 19  recorded_by            59400 non-null  object \n",
            " 20  scheme_management      59400 non-null  object \n",
            " 21  scheme_name            59400 non-null  object \n",
            " 22  permit                 59400 non-null  bool   \n",
            " 23  construction_year      59400 non-null  int64  \n",
            " 24  extraction_type        59400 non-null  object \n",
            " 25  extraction_type_group  59400 non-null  object \n",
            " 26  extraction_type_class  59400 non-null  object \n",
            " 27  management             59400 non-null  object \n",
            " 28  management_group       59400 non-null  object \n",
            " 29  payment                59400 non-null  object \n",
            " 30  payment_type           59400 non-null  object \n",
            " 31  water_quality          59400 non-null  object \n",
            " 32  quality_group          59400 non-null  object \n",
            " 33  quantity               59400 non-null  object \n",
            " 34  quantity_group         59400 non-null  object \n",
            " 35  source                 59400 non-null  object \n",
            " 36  source_type            59400 non-null  object \n",
            " 37  source_class           59400 non-null  object \n",
            " 38  waterpoint_type        59400 non-null  object \n",
            " 39  waterpoint_type_group  59400 non-null  object \n",
            "dtypes: bool(2), float64(3), int64(7), object(28)\n",
            "memory usage: 17.3+ MB\n"
          ]
        }
      ]
    },
    {
      "cell_type": "markdown",
      "metadata": {
        "id": "wT3owh6UxHaf"
      },
      "source": [
        "# Dropping similar features"
      ]
    },
    {
      "cell_type": "code",
      "metadata": {
        "colab": {
          "base_uri": "https://localhost:8080/",
          "height": 440
        },
        "id": "lzomwKXExL26",
        "outputId": "a9048d66-9425-4b53-cc79-397333194946"
      },
      "source": [
        "correlations = df_train_set.corr()\n",
        "correlations"
      ],
      "execution_count": 96,
      "outputs": [
        {
          "output_type": "execute_result",
          "data": {
            "text/html": [
              "<div>\n",
              "<style scoped>\n",
              "    .dataframe tbody tr th:only-of-type {\n",
              "        vertical-align: middle;\n",
              "    }\n",
              "\n",
              "    .dataframe tbody tr th {\n",
              "        vertical-align: top;\n",
              "    }\n",
              "\n",
              "    .dataframe thead th {\n",
              "        text-align: right;\n",
              "    }\n",
              "</style>\n",
              "<table border=\"1\" class=\"dataframe\">\n",
              "  <thead>\n",
              "    <tr style=\"text-align: right;\">\n",
              "      <th></th>\n",
              "      <th>id</th>\n",
              "      <th>amount_tsh</th>\n",
              "      <th>gps_height</th>\n",
              "      <th>longitude</th>\n",
              "      <th>latitude</th>\n",
              "      <th>num_private</th>\n",
              "      <th>region_code</th>\n",
              "      <th>district_code</th>\n",
              "      <th>population</th>\n",
              "      <th>public_meeting</th>\n",
              "      <th>permit</th>\n",
              "      <th>construction_year</th>\n",
              "    </tr>\n",
              "  </thead>\n",
              "  <tbody>\n",
              "    <tr>\n",
              "      <th>id</th>\n",
              "      <td>1.000000</td>\n",
              "      <td>-0.005321</td>\n",
              "      <td>-0.004692</td>\n",
              "      <td>-0.001348</td>\n",
              "      <td>0.001718</td>\n",
              "      <td>-0.002629</td>\n",
              "      <td>-0.003028</td>\n",
              "      <td>-0.003044</td>\n",
              "      <td>-0.002813</td>\n",
              "      <td>0.004359</td>\n",
              "      <td>-0.000070</td>\n",
              "      <td>-0.002082</td>\n",
              "    </tr>\n",
              "    <tr>\n",
              "      <th>amount_tsh</th>\n",
              "      <td>-0.005321</td>\n",
              "      <td>1.000000</td>\n",
              "      <td>0.076650</td>\n",
              "      <td>0.022134</td>\n",
              "      <td>-0.052670</td>\n",
              "      <td>0.002944</td>\n",
              "      <td>-0.026813</td>\n",
              "      <td>-0.023599</td>\n",
              "      <td>0.016288</td>\n",
              "      <td>0.015798</td>\n",
              "      <td>0.023026</td>\n",
              "      <td>0.067915</td>\n",
              "    </tr>\n",
              "    <tr>\n",
              "      <th>gps_height</th>\n",
              "      <td>-0.004692</td>\n",
              "      <td>0.076650</td>\n",
              "      <td>1.000000</td>\n",
              "      <td>0.149155</td>\n",
              "      <td>-0.035751</td>\n",
              "      <td>0.007237</td>\n",
              "      <td>-0.183521</td>\n",
              "      <td>-0.171233</td>\n",
              "      <td>0.135003</td>\n",
              "      <td>0.037207</td>\n",
              "      <td>0.091959</td>\n",
              "      <td>0.658727</td>\n",
              "    </tr>\n",
              "    <tr>\n",
              "      <th>longitude</th>\n",
              "      <td>-0.001348</td>\n",
              "      <td>0.022134</td>\n",
              "      <td>0.149155</td>\n",
              "      <td>1.000000</td>\n",
              "      <td>-0.425802</td>\n",
              "      <td>0.023873</td>\n",
              "      <td>0.034197</td>\n",
              "      <td>0.151398</td>\n",
              "      <td>0.086590</td>\n",
              "      <td>0.016962</td>\n",
              "      <td>0.103182</td>\n",
              "      <td>0.396732</td>\n",
              "    </tr>\n",
              "    <tr>\n",
              "      <th>latitude</th>\n",
              "      <td>0.001718</td>\n",
              "      <td>-0.052670</td>\n",
              "      <td>-0.035751</td>\n",
              "      <td>-0.425802</td>\n",
              "      <td>1.000000</td>\n",
              "      <td>0.006837</td>\n",
              "      <td>-0.221018</td>\n",
              "      <td>-0.201020</td>\n",
              "      <td>-0.022152</td>\n",
              "      <td>0.009084</td>\n",
              "      <td>0.070615</td>\n",
              "      <td>-0.245278</td>\n",
              "    </tr>\n",
              "    <tr>\n",
              "      <th>num_private</th>\n",
              "      <td>-0.002629</td>\n",
              "      <td>0.002944</td>\n",
              "      <td>0.007237</td>\n",
              "      <td>0.023873</td>\n",
              "      <td>0.006837</td>\n",
              "      <td>1.000000</td>\n",
              "      <td>-0.020377</td>\n",
              "      <td>-0.004478</td>\n",
              "      <td>0.003818</td>\n",
              "      <td>0.008618</td>\n",
              "      <td>0.008602</td>\n",
              "      <td>0.026056</td>\n",
              "    </tr>\n",
              "    <tr>\n",
              "      <th>region_code</th>\n",
              "      <td>-0.003028</td>\n",
              "      <td>-0.026813</td>\n",
              "      <td>-0.183521</td>\n",
              "      <td>0.034197</td>\n",
              "      <td>-0.221018</td>\n",
              "      <td>-0.020377</td>\n",
              "      <td>1.000000</td>\n",
              "      <td>0.678602</td>\n",
              "      <td>0.094088</td>\n",
              "      <td>-0.015368</td>\n",
              "      <td>-0.036440</td>\n",
              "      <td>0.031724</td>\n",
              "    </tr>\n",
              "    <tr>\n",
              "      <th>district_code</th>\n",
              "      <td>-0.003044</td>\n",
              "      <td>-0.023599</td>\n",
              "      <td>-0.171233</td>\n",
              "      <td>0.151398</td>\n",
              "      <td>-0.201020</td>\n",
              "      <td>-0.004478</td>\n",
              "      <td>0.678602</td>\n",
              "      <td>1.000000</td>\n",
              "      <td>0.061831</td>\n",
              "      <td>0.012133</td>\n",
              "      <td>-0.081400</td>\n",
              "      <td>0.048315</td>\n",
              "    </tr>\n",
              "    <tr>\n",
              "      <th>population</th>\n",
              "      <td>-0.002813</td>\n",
              "      <td>0.016288</td>\n",
              "      <td>0.135003</td>\n",
              "      <td>0.086590</td>\n",
              "      <td>-0.022152</td>\n",
              "      <td>0.003818</td>\n",
              "      <td>0.094088</td>\n",
              "      <td>0.061831</td>\n",
              "      <td>1.000000</td>\n",
              "      <td>0.006575</td>\n",
              "      <td>-0.036004</td>\n",
              "      <td>0.260910</td>\n",
              "    </tr>\n",
              "    <tr>\n",
              "      <th>public_meeting</th>\n",
              "      <td>0.004359</td>\n",
              "      <td>0.015798</td>\n",
              "      <td>0.037207</td>\n",
              "      <td>0.016962</td>\n",
              "      <td>0.009084</td>\n",
              "      <td>0.008618</td>\n",
              "      <td>-0.015368</td>\n",
              "      <td>0.012133</td>\n",
              "      <td>0.006575</td>\n",
              "      <td>1.000000</td>\n",
              "      <td>0.117993</td>\n",
              "      <td>0.026607</td>\n",
              "    </tr>\n",
              "    <tr>\n",
              "      <th>permit</th>\n",
              "      <td>-0.000070</td>\n",
              "      <td>0.023026</td>\n",
              "      <td>0.091959</td>\n",
              "      <td>0.103182</td>\n",
              "      <td>0.070615</td>\n",
              "      <td>0.008602</td>\n",
              "      <td>-0.036440</td>\n",
              "      <td>-0.081400</td>\n",
              "      <td>-0.036004</td>\n",
              "      <td>0.117993</td>\n",
              "      <td>1.000000</td>\n",
              "      <td>0.077197</td>\n",
              "    </tr>\n",
              "    <tr>\n",
              "      <th>construction_year</th>\n",
              "      <td>-0.002082</td>\n",
              "      <td>0.067915</td>\n",
              "      <td>0.658727</td>\n",
              "      <td>0.396732</td>\n",
              "      <td>-0.245278</td>\n",
              "      <td>0.026056</td>\n",
              "      <td>0.031724</td>\n",
              "      <td>0.048315</td>\n",
              "      <td>0.260910</td>\n",
              "      <td>0.026607</td>\n",
              "      <td>0.077197</td>\n",
              "      <td>1.000000</td>\n",
              "    </tr>\n",
              "  </tbody>\n",
              "</table>\n",
              "</div>"
            ],
            "text/plain": [
              "                         id  amount_tsh  ...    permit  construction_year\n",
              "id                 1.000000   -0.005321  ... -0.000070          -0.002082\n",
              "amount_tsh        -0.005321    1.000000  ...  0.023026           0.067915\n",
              "gps_height        -0.004692    0.076650  ...  0.091959           0.658727\n",
              "longitude         -0.001348    0.022134  ...  0.103182           0.396732\n",
              "latitude           0.001718   -0.052670  ...  0.070615          -0.245278\n",
              "num_private       -0.002629    0.002944  ...  0.008602           0.026056\n",
              "region_code       -0.003028   -0.026813  ... -0.036440           0.031724\n",
              "district_code     -0.003044   -0.023599  ... -0.081400           0.048315\n",
              "population        -0.002813    0.016288  ... -0.036004           0.260910\n",
              "public_meeting     0.004359    0.015798  ...  0.117993           0.026607\n",
              "permit            -0.000070    0.023026  ...  1.000000           0.077197\n",
              "construction_year -0.002082    0.067915  ...  0.077197           1.000000\n",
              "\n",
              "[12 rows x 12 columns]"
            ]
          },
          "metadata": {},
          "execution_count": 96
        }
      ]
    },
    {
      "cell_type": "code",
      "metadata": {
        "colab": {
          "base_uri": "https://localhost:8080/",
          "height": 349
        },
        "id": "jgXQFf3LFGD4",
        "outputId": "200687eb-85f6-4a81-ca05-58f8169d11d8"
      },
      "source": [
        "sns.heatmap(correlations)\n",
        "plt.show()"
      ],
      "execution_count": 97,
      "outputs": [
        {
          "output_type": "display_data",
          "data": {
            "image/png": "[encoded data removed]",
            "text/plain": [
              "<Figure size 432x288 with 2 Axes>"
            ]
          },
          "metadata": {
            "needs_background": "light"
          }
        }
      ]
    },
    {
      "cell_type": "markdown",
      "metadata": {
        "id": "YLg2bzBEGz_u"
      },
      "source": [
        "The following groups of features\n",
        "\n",
        "(extraction_type, extraction_type_group, extraction_type_class),\n",
        "(payment, payment_type),\n",
        "(water_quality, quality_group),\n",
        "(source, source_class),\n",
        "(subvillage, region, region_code, district_code, lga, ward),\n",
        "(waterpoint_type, waterpoint_type_group)\n",
        "(scheme_name, scheme_management)\n",
        "\n",
        "contain very similar information, so the correlation between them is high. This way we are risking overfitting the training data by including all the features in our analysis."
      ]
    },
    {
      "cell_type": "markdown",
      "metadata": {
        "id": "hNNmW2qlG-Oy"
      },
      "source": [
        "As we saw earlier, there exists quite a strong correlation between district_code and region_code, so we will drop one of these variables. The negative correlation to the target variable of the \"region_code\" is higher than that of the \"district_code\". Keep the variable with higher correlation to the target."
      ]
    },
    {
      "cell_type": "code",
      "metadata": {
        "colab": {
          "base_uri": "https://localhost:8080/"
        },
        "id": "KG3TtiU2ylAz",
        "outputId": "e24916d2-e089-4689-b0a4-4e61dae706d5"
      },
      "source": [
        "df_train_set['recorded_by'].value_counts()\n"
      ],
      "execution_count": 98,
      "outputs": [
        {
          "output_type": "execute_result",
          "data": {
            "text/plain": [
              "GeoData Consultants Ltd    59400\n",
              "Name: recorded_by, dtype: int64"
            ]
          },
          "metadata": {},
          "execution_count": 98
        }
      ]
    },
    {
      "cell_type": "markdown",
      "metadata": {
        "id": "V4RsRIoUyoTS"
      },
      "source": [
        "The recorded_by column has one value. This will not give any information to our model. So, we dropped it also.\n",
        "\n"
      ]
    },
    {
      "cell_type": "code",
      "metadata": {
        "id": "hEEK7JHtGy8u"
      },
      "source": [
        "# drop columns\n",
        "df_train_set = df_train_set.drop(['installer','management_group', 'num_private', 'wpt_name', \n",
        "          'recorded_by', 'subvillage', 'scheme_name', 'region', \n",
        "          'quantity', 'water_quality', 'lga','ward', 'source_type', 'payment', \n",
        "          'waterpoint_type_group','extraction_type_group','extraction_type_class'],axis=1)\n",
        "df_test_set = df_test_set.drop(['installer','management_group', 'num_private', 'wpt_name', \n",
        "          'recorded_by', 'subvillage', 'scheme_name', 'region', \n",
        "          'quantity', 'water_quality', 'lga','ward', 'source_type', 'payment', \n",
        "          'waterpoint_type_group','extraction_type_group','extraction_type_class'],axis=1)"
      ],
      "execution_count": 99,
      "outputs": []
    },
    {
      "cell_type": "code",
      "metadata": {
        "colab": {
          "base_uri": "https://localhost:8080/",
          "height": 342
        },
        "id": "h43fZlGOHodX",
        "outputId": "a46fb9f5-021e-4c24-b3b7-5f6d9463c2ef"
      },
      "source": [
        "df_train_set.head()\n"
      ],
      "execution_count": 100,
      "outputs": [
        {
          "output_type": "execute_result",
          "data": {
            "text/html": [
              "<div>\n",
              "<style scoped>\n",
              "    .dataframe tbody tr th:only-of-type {\n",
              "        vertical-align: middle;\n",
              "    }\n",
              "\n",
              "    .dataframe tbody tr th {\n",
              "        vertical-align: top;\n",
              "    }\n",
              "\n",
              "    .dataframe thead th {\n",
              "        text-align: right;\n",
              "    }\n",
              "</style>\n",
              "<table border=\"1\" class=\"dataframe\">\n",
              "  <thead>\n",
              "    <tr style=\"text-align: right;\">\n",
              "      <th></th>\n",
              "      <th>id</th>\n",
              "      <th>amount_tsh</th>\n",
              "      <th>date_recorded</th>\n",
              "      <th>funder</th>\n",
              "      <th>gps_height</th>\n",
              "      <th>longitude</th>\n",
              "      <th>latitude</th>\n",
              "      <th>basin</th>\n",
              "      <th>region_code</th>\n",
              "      <th>district_code</th>\n",
              "      <th>population</th>\n",
              "      <th>public_meeting</th>\n",
              "      <th>scheme_management</th>\n",
              "      <th>permit</th>\n",
              "      <th>construction_year</th>\n",
              "      <th>extraction_type</th>\n",
              "      <th>management</th>\n",
              "      <th>payment_type</th>\n",
              "      <th>quality_group</th>\n",
              "      <th>quantity_group</th>\n",
              "      <th>source</th>\n",
              "      <th>source_class</th>\n",
              "      <th>waterpoint_type</th>\n",
              "    </tr>\n",
              "  </thead>\n",
              "  <tbody>\n",
              "    <tr>\n",
              "      <th>0</th>\n",
              "      <td>69572</td>\n",
              "      <td>6000.0</td>\n",
              "      <td>2011-03-14</td>\n",
              "      <td>Roman</td>\n",
              "      <td>1390</td>\n",
              "      <td>34.938093</td>\n",
              "      <td>-9.856322</td>\n",
              "      <td>Lake Nyasa</td>\n",
              "      <td>11</td>\n",
              "      <td>5</td>\n",
              "      <td>109</td>\n",
              "      <td>True</td>\n",
              "      <td>VWC</td>\n",
              "      <td>False</td>\n",
              "      <td>1999</td>\n",
              "      <td>gravity</td>\n",
              "      <td>vwc</td>\n",
              "      <td>annually</td>\n",
              "      <td>good</td>\n",
              "      <td>enough</td>\n",
              "      <td>spring</td>\n",
              "      <td>groundwater</td>\n",
              "      <td>communal standpipe</td>\n",
              "    </tr>\n",
              "    <tr>\n",
              "      <th>1</th>\n",
              "      <td>8776</td>\n",
              "      <td>0.0</td>\n",
              "      <td>2013-03-06</td>\n",
              "      <td>Grumeti</td>\n",
              "      <td>1399</td>\n",
              "      <td>34.698766</td>\n",
              "      <td>-2.147466</td>\n",
              "      <td>Lake Victoria</td>\n",
              "      <td>20</td>\n",
              "      <td>2</td>\n",
              "      <td>280</td>\n",
              "      <td>True</td>\n",
              "      <td>Other</td>\n",
              "      <td>True</td>\n",
              "      <td>2010</td>\n",
              "      <td>gravity</td>\n",
              "      <td>wug</td>\n",
              "      <td>never pay</td>\n",
              "      <td>good</td>\n",
              "      <td>insufficient</td>\n",
              "      <td>rainwater harvesting</td>\n",
              "      <td>surface</td>\n",
              "      <td>communal standpipe</td>\n",
              "    </tr>\n",
              "    <tr>\n",
              "      <th>2</th>\n",
              "      <td>34310</td>\n",
              "      <td>25.0</td>\n",
              "      <td>2013-02-25</td>\n",
              "      <td>Lottery Club</td>\n",
              "      <td>686</td>\n",
              "      <td>37.460664</td>\n",
              "      <td>-3.821329</td>\n",
              "      <td>Pangani</td>\n",
              "      <td>21</td>\n",
              "      <td>4</td>\n",
              "      <td>250</td>\n",
              "      <td>True</td>\n",
              "      <td>VWC</td>\n",
              "      <td>True</td>\n",
              "      <td>2009</td>\n",
              "      <td>gravity</td>\n",
              "      <td>vwc</td>\n",
              "      <td>per bucket</td>\n",
              "      <td>good</td>\n",
              "      <td>enough</td>\n",
              "      <td>dam</td>\n",
              "      <td>surface</td>\n",
              "      <td>communal standpipe multiple</td>\n",
              "    </tr>\n",
              "    <tr>\n",
              "      <th>3</th>\n",
              "      <td>67743</td>\n",
              "      <td>0.0</td>\n",
              "      <td>2013-01-28</td>\n",
              "      <td>Unicef</td>\n",
              "      <td>263</td>\n",
              "      <td>38.486161</td>\n",
              "      <td>-11.155298</td>\n",
              "      <td>Ruvuma / Southern Coast</td>\n",
              "      <td>90</td>\n",
              "      <td>63</td>\n",
              "      <td>58</td>\n",
              "      <td>True</td>\n",
              "      <td>VWC</td>\n",
              "      <td>True</td>\n",
              "      <td>1986</td>\n",
              "      <td>submersible</td>\n",
              "      <td>vwc</td>\n",
              "      <td>never pay</td>\n",
              "      <td>good</td>\n",
              "      <td>dry</td>\n",
              "      <td>machine dbh</td>\n",
              "      <td>groundwater</td>\n",
              "      <td>communal standpipe multiple</td>\n",
              "    </tr>\n",
              "    <tr>\n",
              "      <th>4</th>\n",
              "      <td>19728</td>\n",
              "      <td>0.0</td>\n",
              "      <td>2011-07-13</td>\n",
              "      <td>Action In A</td>\n",
              "      <td>0</td>\n",
              "      <td>31.130847</td>\n",
              "      <td>-1.825359</td>\n",
              "      <td>Lake Victoria</td>\n",
              "      <td>18</td>\n",
              "      <td>1</td>\n",
              "      <td>0</td>\n",
              "      <td>True</td>\n",
              "      <td>unknown</td>\n",
              "      <td>True</td>\n",
              "      <td>0</td>\n",
              "      <td>gravity</td>\n",
              "      <td>other</td>\n",
              "      <td>never pay</td>\n",
              "      <td>good</td>\n",
              "      <td>seasonal</td>\n",
              "      <td>rainwater harvesting</td>\n",
              "      <td>surface</td>\n",
              "      <td>communal standpipe</td>\n",
              "    </tr>\n",
              "  </tbody>\n",
              "</table>\n",
              "</div>"
            ],
            "text/plain": [
              "      id  amount_tsh  ... source_class              waterpoint_type\n",
              "0  69572      6000.0  ...  groundwater           communal standpipe\n",
              "1   8776         0.0  ...      surface           communal standpipe\n",
              "2  34310        25.0  ...      surface  communal standpipe multiple\n",
              "3  67743         0.0  ...  groundwater  communal standpipe multiple\n",
              "4  19728         0.0  ...      surface           communal standpipe\n",
              "\n",
              "[5 rows x 23 columns]"
            ]
          },
          "metadata": {},
          "execution_count": 100
        }
      ]
    },
    {
      "cell_type": "code",
      "metadata": {
        "colab": {
          "base_uri": "https://localhost:8080/"
        },
        "id": "2OuODFPo1QDe",
        "outputId": "3074cbbf-9760-4a9b-9a49-2de4628cc959"
      },
      "source": [
        "df_train_set['funder'].value_counts().head(30)\n"
      ],
      "execution_count": 101,
      "outputs": [
        {
          "output_type": "execute_result",
          "data": {
            "text/plain": [
              "Government Of Tanzania    9084\n",
              "unknown                   3635\n",
              "Danida                    3114\n",
              "Hesawa                    2202\n",
              "Rwssp                     1374\n",
              "World Bank                1349\n",
              "Kkkt                      1287\n",
              "World Vision              1246\n",
              "Unicef                    1057\n",
              "Tasaf                      877\n",
              "District Council           843\n",
              "Dhv                        829\n",
              "Private Individual         826\n",
              "Dwsp                       811\n",
              "0                          777\n",
              "Norad                      765\n",
              "Germany Republi            610\n",
              "Tcrs                       602\n",
              "Ministry Of Water          590\n",
              "Water                      583\n",
              "Dwe                        484\n",
              "Netherlands                470\n",
              "Hifab                      450\n",
              "Adb                        448\n",
              "Lga                        442\n",
              "Amref                      425\n",
              "Fini Water                 393\n",
              "Oxfam                      359\n",
              "Wateraid                   333\n",
              "Rc Church                  321\n",
              "Name: funder, dtype: int64"
            ]
          },
          "metadata": {},
          "execution_count": 101
        }
      ]
    },
    {
      "cell_type": "markdown",
      "metadata": {
        "id": "SxRgtTS4Iwx3"
      },
      "source": [
        "# **Reducing cardinality**"
      ]
    },
    {
      "cell_type": "markdown",
      "metadata": {
        "id": "ki6FsMYyK3go"
      },
      "source": [
        "Select features"
      ]
    },
    {
      "cell_type": "code",
      "metadata": {
        "colab": {
          "base_uri": "https://localhost:8080/"
        },
        "id": "j-Hu_sW-I9Dc",
        "outputId": "e4364f49-f134-44c8-9f79-7ae0f33b6f83"
      },
      "source": [
        "# Get number of unique entries in each column with categorical data\n",
        "cat_vars = df_train_set.select_dtypes(include='object').columns\n",
        "object_nunique = list(map(lambda col: df_train_set[col].nunique(), cat_vars))\n",
        "d = dict(zip(cat_vars, object_nunique))\n",
        "\n",
        "# Print number of unique entries by column, in ascending order\n",
        "sorted(d.items(), key=lambda x: x[1])"
      ],
      "execution_count": 102,
      "outputs": [
        {
          "output_type": "execute_result",
          "data": {
            "text/plain": [
              "[('source_class', 3),\n",
              " ('quantity_group', 5),\n",
              " ('quality_group', 6),\n",
              " ('payment_type', 7),\n",
              " ('waterpoint_type', 7),\n",
              " ('basin', 9),\n",
              " ('source', 10),\n",
              " ('management', 12),\n",
              " ('scheme_management', 13),\n",
              " ('extraction_type', 18),\n",
              " ('date_recorded', 356),\n",
              " ('funder', 1898)]"
            ]
          },
          "metadata": {},
          "execution_count": 102
        }
      ]
    },
    {
      "cell_type": "markdown",
      "metadata": {
        "id": "alX_vlFmM1zq"
      },
      "source": [
        "The columns in which values can be ordered we can perform an Ordinal encoding:\n",
        "*   quality_group\n",
        "*   quantity_group\n",
        "*   payment_type\n",
        "\n",
        "The cardinality of the following 2 features should be reduced to 10 and then one-hot encode them or try Binary encoding:\n",
        "*   scheme_managenemt\n",
        "*   extraction_type\n",
        "\n",
        "What to do with the following 3? The cardinality is too high... : --> will drop at the first model run, later could try Frequency encoding,Binary encoding if reduce cardinality to at least 100.\n",
        "*   funder\n",
        "*   installer\n",
        "*   subvillage\n",
        "\n",
        "The rest can be one-hot encoded as the cardinality is lower than 10:\n",
        "\n",
        "* public_meeting # later -> Binary?\n",
        "* permit # later-> Binary?\n",
        "* source_class\n",
        "* management_group\n",
        "* waterpoint_type_group\n",
        "* source_type\n",
        "* basin\n"
      ]
    },
    {
      "cell_type": "markdown",
      "metadata": {
        "id": "SdBBa0v8OfKp"
      },
      "source": [
        "Scheme_management"
      ]
    },
    {
      "cell_type": "code",
      "metadata": {
        "colab": {
          "base_uri": "https://localhost:8080/"
        },
        "id": "5Iofs38KM4Jm",
        "outputId": "e53d83b5-f3a3-47fc-db6e-06a99ee9138f"
      },
      "source": [
        "df_train_set.scheme_management.value_counts()\n"
      ],
      "execution_count": 103,
      "outputs": [
        {
          "output_type": "execute_result",
          "data": {
            "text/plain": [
              "VWC                 36793\n",
              "WUG                  5206\n",
              "unknown              3877\n",
              "Water authority      3153\n",
              "WUA                  2883\n",
              "Water Board          2748\n",
              "Parastatal           1680\n",
              "Private operator     1063\n",
              "Company              1061\n",
              "Other                 766\n",
              "SWC                    97\n",
              "Trust                  72\n",
              "None                    1\n",
              "Name: scheme_management, dtype: int64"
            ]
          },
          "metadata": {},
          "execution_count": 103
        }
      ]
    },
    {
      "cell_type": "code",
      "metadata": {
        "id": "nP761aJtNteT"
      },
      "source": [
        "## scheme_management\n",
        "def scheme_wrangler(row):\n",
        "    if row['scheme_management']=='VWC':\n",
        "        return 'vwc'\n",
        "    elif row['scheme_management']=='WUG':\n",
        "        return 'wug'\n",
        "    elif row['scheme_management']=='Water authority':\n",
        "        return 'wtr_auth'\n",
        "    elif row['scheme_management']=='WUA':\n",
        "        return 'wua'\n",
        "    elif row['scheme_management']=='Water Board':\n",
        "        return 'wtr_brd'\n",
        "    elif row['scheme_management']=='Parastatal':\n",
        "        return 'parastatal'\n",
        "    elif row['scheme_management']=='Private operator':\n",
        "        return 'pri_optr'\n",
        "    elif row['scheme_management']=='SWC':\n",
        "        return 'swc'\n",
        "    elif row['scheme_management']=='Company':\n",
        "        return 'company'\n",
        "    else:\n",
        "        return 'other'\n",
        "df_train_set['scheme_management'] = df_train_set.apply(lambda row: scheme_wrangler(row), axis=1)\n",
        "df_test_set['scheme_management'] = df_test_set.apply(lambda row: scheme_wrangler(row), axis=1)"
      ],
      "execution_count": 104,
      "outputs": []
    },
    {
      "cell_type": "markdown",
      "metadata": {
        "id": "Te2yGBQgOngF"
      },
      "source": [
        "Extraction_type"
      ]
    },
    {
      "cell_type": "code",
      "metadata": {
        "colab": {
          "base_uri": "https://localhost:8080/"
        },
        "id": "NDykeQBQOorU",
        "outputId": "894a8804-1943-49d5-fda9-1c925ac5227a"
      },
      "source": [
        "df_train_set.extraction_type.value_counts()\n"
      ],
      "execution_count": 105,
      "outputs": [
        {
          "output_type": "execute_result",
          "data": {
            "text/plain": [
              "gravity                      26780\n",
              "nira/tanira                   8154\n",
              "other                         6430\n",
              "submersible                   4764\n",
              "swn 80                        3670\n",
              "mono                          2865\n",
              "india mark ii                 2400\n",
              "afridev                       1770\n",
              "ksb                           1415\n",
              "other - rope pump              451\n",
              "other - swn 81                 229\n",
              "windmill                       117\n",
              "india mark iii                  98\n",
              "cemo                            90\n",
              "other - play pump               85\n",
              "walimi                          48\n",
              "climax                          32\n",
              "other - mkulima/shinyanga        2\n",
              "Name: extraction_type, dtype: int64"
            ]
          },
          "metadata": {},
          "execution_count": 105
        }
      ]
    },
    {
      "cell_type": "code",
      "metadata": {
        "id": "FqVSkE0ZOrpD"
      },
      "source": [
        "## extraction_type\n",
        "def extraction_wrangler(row):\n",
        "    if row['extraction_type']=='gravity':\n",
        "        return 'gravity'\n",
        "    elif row['extraction_type']=='nira/tanira':\n",
        "        return 'nira/tanira'\n",
        "    elif row['extraction_type']=='submersible':\n",
        "        return 'submersible'\n",
        "    elif row['extraction_type']=='swn 80':\n",
        "        return 'swn_80'\n",
        "    elif row['extraction_type']=='mono':\n",
        "        return 'mono'\n",
        "    elif row['extraction_type']=='india mark ii':\n",
        "        return 'india_mark_ii'\n",
        "    elif row['extraction_type']=='afridev':\n",
        "        return 'afridev'\n",
        "    elif row['extraction_type']=='ksb':\n",
        "        return 'ksb'\n",
        "    elif row['extraction_type']=='windmill':\n",
        "        return 'windmill'\n",
        "    else:\n",
        "        return 'other'\n",
        "df_train_set['extraction_type'] = df_train_set.apply(lambda row: extraction_wrangler(row), axis=1)\n",
        "df_test_set['extraction_type'] = df_test_set.apply(lambda row: extraction_wrangler(row), axis=1)"
      ],
      "execution_count": 106,
      "outputs": []
    },
    {
      "cell_type": "markdown",
      "metadata": {
        "id": "vsYINJQiPFOC"
      },
      "source": [
        "funder"
      ]
    },
    {
      "cell_type": "code",
      "metadata": {
        "colab": {
          "base_uri": "https://localhost:8080/"
        },
        "id": "5AokglD2PIEB",
        "outputId": "0347ecd3-f312-43ad-a538-48abf4cf8563"
      },
      "source": [
        "df_train_set.funder.value_counts()\n"
      ],
      "execution_count": 107,
      "outputs": [
        {
          "output_type": "execute_result",
          "data": {
            "text/plain": [
              "Government Of Tanzania    9084\n",
              "unknown                   3635\n",
              "Danida                    3114\n",
              "Hesawa                    2202\n",
              "Rwssp                     1374\n",
              "                          ... \n",
              "Mtambo                       1\n",
              "Rashid Seng'ombe             1\n",
              "Kahema                       1\n",
              "Mwamvita Rajabu              1\n",
              "Tadeo                        1\n",
              "Name: funder, Length: 1898, dtype: int64"
            ]
          },
          "metadata": {},
          "execution_count": 107
        }
      ]
    },
    {
      "cell_type": "code",
      "metadata": {
        "id": "f7rFxLanPXE6"
      },
      "source": [
        "## funder\n",
        "def funder_wrangler(row):  \n",
        "    '''Keep top 8 values and set the rest to 'other'''\n",
        "\n",
        "    if row['funder']=='Government Of Tanzania':\n",
        "        return 'gov'\n",
        "    elif row['funder']=='Danida':\n",
        "        return 'danida'\n",
        "    elif row['funder']=='Hesawa':\n",
        "        return 'hesawa'\n",
        "    elif row['funder']=='Rwssp':\n",
        "        return 'rwssp'\n",
        "    elif row['funder']=='World Bank':\n",
        "        return 'world_bank'   \n",
        "    elif row['funder']=='Kkkt':\n",
        "        return 'kkkt'   \n",
        "    elif row['funder']=='World Vision':\n",
        "        return 'world_vision'  \n",
        "    elif row['funder']=='Unicef':\n",
        "        return 'unicef'\n",
        "    else:\n",
        "        return 'other'\n",
        "    \n",
        "df_train_set['funder'] = df_train_set.apply(lambda row: funder_wrangler(row), axis=1)\n",
        "df_test_set['funder'] = df_test_set.apply(lambda row: funder_wrangler(row), axis=1)"
      ],
      "execution_count": 108,
      "outputs": []
    },
    {
      "cell_type": "markdown",
      "metadata": {
        "id": "ujMYc5pKrVbw"
      },
      "source": [
        "# Feature Engineering"
      ]
    },
    {
      "cell_type": "code",
      "metadata": {
        "colab": {
          "base_uri": "https://localhost:8080/"
        },
        "id": "UK29V6yDraES",
        "outputId": "c334ac5e-d151-46cc-a3fd-70fde61c17aa"
      },
      "source": [
        "df_train_set['construction_year'].value_counts()"
      ],
      "execution_count": 109,
      "outputs": [
        {
          "output_type": "execute_result",
          "data": {
            "text/plain": [
              "0       20709\n",
              "2010     2645\n",
              "2008     2613\n",
              "2009     2533\n",
              "2000     2091\n",
              "2007     1587\n",
              "2006     1471\n",
              "2003     1286\n",
              "2011     1256\n",
              "2004     1123\n",
              "2012     1084\n",
              "2002     1075\n",
              "1978     1037\n",
              "1995     1014\n",
              "2005     1011\n",
              "1999      979\n",
              "1998      966\n",
              "1990      954\n",
              "1985      945\n",
              "1980      811\n",
              "1996      811\n",
              "1984      779\n",
              "1982      744\n",
              "1994      738\n",
              "1972      708\n",
              "1974      676\n",
              "1997      644\n",
              "1992      640\n",
              "1993      608\n",
              "2001      540\n",
              "1988      521\n",
              "1983      488\n",
              "1975      437\n",
              "1986      434\n",
              "1976      414\n",
              "1970      411\n",
              "1991      324\n",
              "1989      316\n",
              "1987      302\n",
              "1981      238\n",
              "1977      202\n",
              "1979      192\n",
              "1973      184\n",
              "2013      176\n",
              "1971      145\n",
              "1960      102\n",
              "1967       88\n",
              "1963       85\n",
              "1968       77\n",
              "1969       59\n",
              "1964       40\n",
              "1962       30\n",
              "1961       21\n",
              "1965       19\n",
              "1966       17\n",
              "Name: construction_year, dtype: int64"
            ]
          },
          "metadata": {},
          "execution_count": 109
        }
      ]
    },
    {
      "cell_type": "markdown",
      "metadata": {
        "id": "hOcg0p06vWHw"
      },
      "source": [
        "The year values are converted to decades for future encoding. Zero shows the missing values. This have majority of the data set so, it will not be changed to the mean or median, kept as new value in decades."
      ]
    },
    {
      "cell_type": "code",
      "metadata": {
        "id": "3QLc64uPvFV6"
      },
      "source": [
        "df_train_set['decade'] = df_train_set['construction_year'] #creating new columns\n",
        "df_test_set['decade'] = df_test_set['construction_year'] #creating new columns\n"
      ],
      "execution_count": 110,
      "outputs": []
    },
    {
      "cell_type": "code",
      "metadata": {
        "id": "WmhiHai3vtdA"
      },
      "source": [
        "\n",
        "# dividing the column decades\n",
        "\n",
        "df_train_set['decade'].replace(to_replace = (1960,1961,1962,1963,1964,1965,1966,1967,1968,1969),\n",
        "                        value ='60s' , inplace=True)\n",
        "df_train_set['decade'].replace(to_replace = (1970,1971,1972,1973,1974,1975,1976,1977,1978,1979),\n",
        "                        value ='70s' , inplace=True)\n",
        "df_train_set['decade'].replace(to_replace = (1980,1981,1982,1983,1984,1985,1986,1987,1988,1989),\n",
        "                        value ='80s' , inplace=True)\n",
        "df_train_set['decade'].replace(to_replace = (1990,1991,1992,1993,1994,1995,1996,1997,1998,1999),\n",
        "                        value ='90s' , inplace=True)\n",
        "df_train_set['decade'].replace(to_replace = (2000,2001,2002,2003,2004,2005,2006,2007,2008,2009),\n",
        "                        value ='00s' , inplace=True)\n",
        "df_train_set['decade'].replace(to_replace = (2010,2011,2012,2013),\n",
        "                        value ='10s' , inplace=True)\n",
        "\n",
        "df_test_set['decade'].replace(to_replace = (1960,1961,1962,1963,1964,1965,1966,1967,1968,1969),\n",
        "                        value ='60s' , inplace=True)\n",
        "df_test_set['decade'].replace(to_replace = (1970,1971,1972,1973,1974,1975,1976,1977,1978,1979),\n",
        "                        value ='70s' , inplace=True)\n",
        "df_test_set['decade'].replace(to_replace = (1980,1981,1982,1983,1984,1985,1986,1987,1988,1989),\n",
        "                        value ='80s' , inplace=True)\n",
        "df_test_set['decade'].replace(to_replace = (1990,1991,1992,1993,1994,1995,1996,1997,1998,1999),\n",
        "                        value ='90s' , inplace=True)\n",
        "df_test_set['decade'].replace(to_replace = (2000,2001,2002,2003,2004,2005,2006,2007,2008,2009),\n",
        "                        value ='00s' , inplace=True)\n",
        "df_test_set['decade'].replace(to_replace = (2010,2011,2012,2013),\n",
        "                        value ='10s' , inplace=True)"
      ],
      "execution_count": 111,
      "outputs": []
    },
    {
      "cell_type": "code",
      "metadata": {
        "colab": {
          "base_uri": "https://localhost:8080/"
        },
        "id": "pqMJip4jv-II",
        "outputId": "3aa6da12-1170-4377-944f-c10cc6a9ed0e"
      },
      "source": [
        "df_train_set['decade'].value_counts()\n"
      ],
      "execution_count": 112,
      "outputs": [
        {
          "output_type": "execute_result",
          "data": {
            "text/plain": [
              "0      20709\n",
              "00s    15330\n",
              "90s     7678\n",
              "80s     5578\n",
              "10s     5161\n",
              "70s     4406\n",
              "60s      538\n",
              "Name: decade, dtype: int64"
            ]
          },
          "metadata": {},
          "execution_count": 112
        }
      ]
    },
    {
      "cell_type": "code",
      "metadata": {
        "colab": {
          "base_uri": "https://localhost:8080/",
          "height": 296
        },
        "id": "a-N0a_phwPW_",
        "outputId": "004b7c20-e550-46de-e513-f4240c2a0253"
      },
      "source": [
        "df_train_set.loc[df_train_set['construction_year']!=0].describe() # finding mean and median without zero values\n"
      ],
      "execution_count": 113,
      "outputs": [
        {
          "output_type": "execute_result",
          "data": {
            "text/html": [
              "<div>\n",
              "<style scoped>\n",
              "    .dataframe tbody tr th:only-of-type {\n",
              "        vertical-align: middle;\n",
              "    }\n",
              "\n",
              "    .dataframe tbody tr th {\n",
              "        vertical-align: top;\n",
              "    }\n",
              "\n",
              "    .dataframe thead th {\n",
              "        text-align: right;\n",
              "    }\n",
              "</style>\n",
              "<table border=\"1\" class=\"dataframe\">\n",
              "  <thead>\n",
              "    <tr style=\"text-align: right;\">\n",
              "      <th></th>\n",
              "      <th>id</th>\n",
              "      <th>amount_tsh</th>\n",
              "      <th>gps_height</th>\n",
              "      <th>longitude</th>\n",
              "      <th>latitude</th>\n",
              "      <th>region_code</th>\n",
              "      <th>district_code</th>\n",
              "      <th>population</th>\n",
              "      <th>construction_year</th>\n",
              "    </tr>\n",
              "  </thead>\n",
              "  <tbody>\n",
              "    <tr>\n",
              "      <th>count</th>\n",
              "      <td>38691.000000</td>\n",
              "      <td>38691.000000</td>\n",
              "      <td>38691.000000</td>\n",
              "      <td>38691.000000</td>\n",
              "      <td>38691.000000</td>\n",
              "      <td>38691.000000</td>\n",
              "      <td>38691.000000</td>\n",
              "      <td>38691.000000</td>\n",
              "      <td>38691.000000</td>\n",
              "    </tr>\n",
              "    <tr>\n",
              "      <th>mean</th>\n",
              "      <td>37083.008736</td>\n",
              "      <td>466.457534</td>\n",
              "      <td>1002.367760</td>\n",
              "      <td>35.983262</td>\n",
              "      <td>-6.235372</td>\n",
              "      <td>15.706495</td>\n",
              "      <td>5.969786</td>\n",
              "      <td>269.799617</td>\n",
              "      <td>1996.814686</td>\n",
              "    </tr>\n",
              "    <tr>\n",
              "      <th>std</th>\n",
              "      <td>21420.922010</td>\n",
              "      <td>3541.036030</td>\n",
              "      <td>618.078669</td>\n",
              "      <td>2.558709</td>\n",
              "      <td>2.761317</td>\n",
              "      <td>21.003006</td>\n",
              "      <td>10.700673</td>\n",
              "      <td>552.343746</td>\n",
              "      <td>12.472045</td>\n",
              "    </tr>\n",
              "    <tr>\n",
              "      <th>min</th>\n",
              "      <td>1.000000</td>\n",
              "      <td>0.000000</td>\n",
              "      <td>-63.000000</td>\n",
              "      <td>29.607122</td>\n",
              "      <td>-11.649440</td>\n",
              "      <td>2.000000</td>\n",
              "      <td>1.000000</td>\n",
              "      <td>0.000000</td>\n",
              "      <td>1960.000000</td>\n",
              "    </tr>\n",
              "    <tr>\n",
              "      <th>25%</th>\n",
              "      <td>18489.500000</td>\n",
              "      <td>0.000000</td>\n",
              "      <td>372.000000</td>\n",
              "      <td>34.676719</td>\n",
              "      <td>-8.755274</td>\n",
              "      <td>4.000000</td>\n",
              "      <td>2.000000</td>\n",
              "      <td>30.000000</td>\n",
              "      <td>1987.000000</td>\n",
              "    </tr>\n",
              "    <tr>\n",
              "      <th>50%</th>\n",
              "      <td>37078.000000</td>\n",
              "      <td>0.000000</td>\n",
              "      <td>1154.000000</td>\n",
              "      <td>36.648187</td>\n",
              "      <td>-6.064216</td>\n",
              "      <td>11.000000</td>\n",
              "      <td>3.000000</td>\n",
              "      <td>150.000000</td>\n",
              "      <td>2000.000000</td>\n",
              "    </tr>\n",
              "    <tr>\n",
              "      <th>75%</th>\n",
              "      <td>55514.500000</td>\n",
              "      <td>200.000000</td>\n",
              "      <td>1488.000000</td>\n",
              "      <td>37.803940</td>\n",
              "      <td>-3.650661</td>\n",
              "      <td>16.000000</td>\n",
              "      <td>5.000000</td>\n",
              "      <td>305.000000</td>\n",
              "      <td>2008.000000</td>\n",
              "    </tr>\n",
              "    <tr>\n",
              "      <th>max</th>\n",
              "      <td>74247.000000</td>\n",
              "      <td>350000.000000</td>\n",
              "      <td>2770.000000</td>\n",
              "      <td>40.345193</td>\n",
              "      <td>-1.042375</td>\n",
              "      <td>99.000000</td>\n",
              "      <td>63.000000</td>\n",
              "      <td>30500.000000</td>\n",
              "      <td>2013.000000</td>\n",
              "    </tr>\n",
              "  </tbody>\n",
              "</table>\n",
              "</div>"
            ],
            "text/plain": [
              "                 id     amount_tsh  ...    population  construction_year\n",
              "count  38691.000000   38691.000000  ...  38691.000000       38691.000000\n",
              "mean   37083.008736     466.457534  ...    269.799617        1996.814686\n",
              "std    21420.922010    3541.036030  ...    552.343746          12.472045\n",
              "min        1.000000       0.000000  ...      0.000000        1960.000000\n",
              "25%    18489.500000       0.000000  ...     30.000000        1987.000000\n",
              "50%    37078.000000       0.000000  ...    150.000000        2000.000000\n",
              "75%    55514.500000     200.000000  ...    305.000000        2008.000000\n",
              "max    74247.000000  350000.000000  ...  30500.000000        2013.000000\n",
              "\n",
              "[8 rows x 9 columns]"
            ]
          },
          "metadata": {},
          "execution_count": 113
        }
      ]
    },
    {
      "cell_type": "code",
      "metadata": {
        "id": "RHws3gqdwdJ3"
      },
      "source": [
        "df_train_set['construction_year'].replace(to_replace = 0, value = 2000, inplace=True)\n",
        "#changing the missing values in construction year column"
      ],
      "execution_count": 114,
      "outputs": []
    },
    {
      "cell_type": "code",
      "metadata": {
        "id": "QXtG0MVSxVhy"
      },
      "source": [
        "df_test_set['construction_year'].replace(to_replace = 0, value = 2000, inplace=True)\n",
        "#changing the missing values in construction year column\n",
        "\n"
      ],
      "execution_count": 115,
      "outputs": []
    },
    {
      "cell_type": "code",
      "metadata": {
        "colab": {
          "base_uri": "https://localhost:8080/",
          "height": 606
        },
        "id": "2TUz9NiAwjzX",
        "outputId": "39ce9d1f-00b6-4649-b32f-281b94184ea6"
      },
      "source": [
        "plt.figure(figsize=(20,10))\n",
        "df = pd.merge(df_train_labels, df_train_set, how = 'inner', left_index = True,right_index=True) #merging two data sets\n",
        "df.reset_index(inplace=True) # setting a new index\n",
        "ax = sns.countplot(x='decade', hue=\"status_group\", data=df)"
      ],
      "execution_count": 116,
      "outputs": [
        {
          "output_type": "display_data",
          "data": {
            "image/png": "[encoded data removed]",
            "text/plain": [
              "<Figure size 1440x720 with 1 Axes>"
            ]
          },
          "metadata": {
            "needs_background": "light"
          }
        }
      ]
    },
    {
      "cell_type": "markdown",
      "metadata": {
        "id": "Jb9LcBVsyG1V"
      },
      "source": [
        "It is obviously seen that missing values and most recent years have more functional water points.\n",
        "\n"
      ]
    },
    {
      "cell_type": "markdown",
      "metadata": {
        "id": "MNzlIlhYQLh_"
      },
      "source": [
        "# **Ordinal encoding of categorical data**\n",
        "\n",
        "Several categorical features can be encoded in a specific order that follows from the range of its values. By using ordinal encoding instead of one-hot encoding we will avoid creating numerious additional columns and provide some logic to the model on how to evaluate these features. For example for the quality_group variable, the higher the label, the better the water quality, the more likely a pump is functional."
      ]
    },
    {
      "cell_type": "markdown",
      "metadata": {
        "id": "4I2oKbCBQaMf"
      },
      "source": [
        "Quality_group"
      ]
    },
    {
      "cell_type": "code",
      "metadata": {
        "colab": {
          "base_uri": "https://localhost:8080/"
        },
        "id": "E0_HwVvpQKuz",
        "outputId": "fae8003a-195f-479d-cfea-43f24334f59d"
      },
      "source": [
        "df_train_set.quality_group.value_counts()\n"
      ],
      "execution_count": 117,
      "outputs": [
        {
          "output_type": "execute_result",
          "data": {
            "text/plain": [
              "good        50818\n",
              "salty        5195\n",
              "unknown      1876\n",
              "milky         804\n",
              "colored       490\n",
              "fluoride      217\n",
              "Name: quality_group, dtype: int64"
            ]
          },
          "metadata": {},
          "execution_count": 117
        }
      ]
    },
    {
      "cell_type": "code",
      "metadata": {
        "id": "PDnr1fPrQk-K"
      },
      "source": [
        "order_dict_quality = {\"good\":3,\"salty\":2,\"milky\":2,\"colored\":2,\"fluoride\":2,\"unknown\":1}\n",
        "df_train_set[\"quality_group\"] = [order_dict_quality[item] for item in df_train_set.quality_group]\n",
        "\n",
        "df_test_set[\"quality_group\"] = [order_dict_quality[item] for item in df_test_set.quality_group]\n"
      ],
      "execution_count": 118,
      "outputs": []
    },
    {
      "cell_type": "markdown",
      "metadata": {
        "id": "IVvA7R6oQ6cA"
      },
      "source": [
        "Quantity_group"
      ]
    },
    {
      "cell_type": "code",
      "metadata": {
        "colab": {
          "base_uri": "https://localhost:8080/"
        },
        "id": "_TSaVg5MQ76V",
        "outputId": "4cc580a5-2af8-4707-fa9a-c88f55010886"
      },
      "source": [
        "df_train_set.quantity_group.value_counts()\n"
      ],
      "execution_count": 119,
      "outputs": [
        {
          "output_type": "execute_result",
          "data": {
            "text/plain": [
              "enough          33186\n",
              "insufficient    15129\n",
              "dry              6246\n",
              "seasonal         4050\n",
              "unknown           789\n",
              "Name: quantity_group, dtype: int64"
            ]
          },
          "metadata": {},
          "execution_count": 119
        }
      ]
    },
    {
      "cell_type": "code",
      "metadata": {
        "id": "jinh9V_7Q-0s"
      },
      "source": [
        "order_dict_quantity = {\"enough\":3,\"insufficient\":2,\"dry\":2,\"seasonal\":2,\"unknown\":1}\n",
        "df_train_set[\"quantity_group\"] = [order_dict_quantity[item] for item in df_train_set.quantity_group] \n",
        "\n",
        "df_test_set[\"quantity_group\"] = [order_dict_quantity[item] for item in df_test_set.quantity_group] \n"
      ],
      "execution_count": 120,
      "outputs": []
    },
    {
      "cell_type": "markdown",
      "metadata": {
        "id": "n7QKnWowRaaK"
      },
      "source": [
        "Payment_type"
      ]
    },
    {
      "cell_type": "code",
      "metadata": {
        "colab": {
          "base_uri": "https://localhost:8080/"
        },
        "id": "0uNirGqNRbeL",
        "outputId": "00c2d3c1-3a74-4349-dbb2-7e5b6893e661"
      },
      "source": [
        "df_train_set.payment_type.value_counts()\n"
      ],
      "execution_count": 121,
      "outputs": [
        {
          "output_type": "execute_result",
          "data": {
            "text/plain": [
              "never pay     25348\n",
              "per bucket     8985\n",
              "monthly        8300\n",
              "unknown        8157\n",
              "on failure     3914\n",
              "annually       3642\n",
              "other          1054\n",
              "Name: payment_type, dtype: int64"
            ]
          },
          "metadata": {},
          "execution_count": 121
        }
      ]
    },
    {
      "cell_type": "code",
      "metadata": {
        "id": "Xp-eTLbQRfF0"
      },
      "source": [
        "order_dict_payment = {\"monthly\":4,\"annually\":4,\"on failure\":3,\"per bucket\":3,\"never pay\":2,\"unknown\":1,\"other\":1}\n",
        "df_train_set[\"payment_type\"] = [order_dict_payment[item] for item in df_train_set.payment_type] \n",
        "\n",
        "df_test_set[\"payment_type\"] = [order_dict_payment[item] for item in df_test_set.payment_type] \n"
      ],
      "execution_count": 122,
      "outputs": []
    },
    {
      "cell_type": "markdown",
      "metadata": {
        "id": "pBhtucNcR12n"
      },
      "source": [
        "Public_meeting"
      ]
    },
    {
      "cell_type": "code",
      "metadata": {
        "colab": {
          "base_uri": "https://localhost:8080/"
        },
        "id": "7XioEhhYR2tL",
        "outputId": "561f0b45-4908-4556-94de-1c115dcd46f2"
      },
      "source": [
        "df_train_set.public_meeting.value_counts()\n"
      ],
      "execution_count": 123,
      "outputs": [
        {
          "output_type": "execute_result",
          "data": {
            "text/plain": [
              "True     54345\n",
              "False     5055\n",
              "Name: public_meeting, dtype: int64"
            ]
          },
          "metadata": {},
          "execution_count": 123
        }
      ]
    },
    {
      "cell_type": "code",
      "metadata": {
        "id": "qLfIPcKnR6CY"
      },
      "source": [
        "order_dict_pub_meet = {True:2,False:1,\"unknown\":0}\n",
        "df_train_set[\"public_meeting\"] = [order_dict_pub_meet[item] for item in df_train_set.public_meeting] \n",
        "\n",
        "df_test_set[\"public_meeting\"] = [order_dict_pub_meet[item] for item in df_test_set.public_meeting] \n"
      ],
      "execution_count": 124,
      "outputs": []
    },
    {
      "cell_type": "markdown",
      "metadata": {
        "id": "w25PSn7iSLsi"
      },
      "source": [
        "Permit"
      ]
    },
    {
      "cell_type": "code",
      "metadata": {
        "colab": {
          "base_uri": "https://localhost:8080/"
        },
        "id": "eb6xnYDsSMjc",
        "outputId": "2a80e082-0a8f-4b51-fb78-e99b43d9b663"
      },
      "source": [
        "df_train_set.permit.value_counts()\n"
      ],
      "execution_count": 125,
      "outputs": [
        {
          "output_type": "execute_result",
          "data": {
            "text/plain": [
              "True     41908\n",
              "False    17492\n",
              "Name: permit, dtype: int64"
            ]
          },
          "metadata": {},
          "execution_count": 125
        }
      ]
    },
    {
      "cell_type": "code",
      "metadata": {
        "id": "91HR3o13SO1j"
      },
      "source": [
        "order_dict_permit = {True:2,False:1,\"unknown\":0}\n",
        "df_train_set[\"permit\"] = [order_dict_pub_meet[item] for item in df_train_set.permit] \n",
        "\n",
        "df_test_set[\"permit\"] = [order_dict_pub_meet[item] for item in df_test_set.permit] \n"
      ],
      "execution_count": 126,
      "outputs": []
    },
    {
      "cell_type": "markdown",
      "metadata": {
        "id": "pF-mgKhvUuxg"
      },
      "source": [
        "# **Model**"
      ]
    },
    {
      "cell_type": "code",
      "metadata": {
        "colab": {
          "base_uri": "https://localhost:8080/"
        },
        "id": "3c5EJd5AUuUl",
        "outputId": "f9f41a31-ee45-4966-c13c-b0f47496ddb4"
      },
      "source": [
        "# importing necessary libraries\n",
        "\n",
        "!pip install category_encoders\n",
        "\n",
        "#from sklearn.tree import DecisionTreeClassifier\n",
        "from sklearn.ensemble import RandomForestClassifier    #, ExtraTreesClassifier\n",
        "from sklearn.linear_model import LogisticRegression\n",
        "from sklearn.preprocessing import KBinsDiscretizer, FunctionTransformer,RobustScaler\n",
        "from sklearn.model_selection import cross_val_score\n",
        "#from category_encoders import OneHotEncoder\n",
        "from sklearn.pipeline import make_pipeline, Pipeline\n",
        "\n",
        "from sklearn.model_selection import GridSearchCV, train_test_split\n",
        "from sklearn.metrics import roc_auc_score\n",
        "\n",
        "from sklearn.datasets import make_classification\n",
        "from sklearn.model_selection import train_test_split, GridSearchCV\n",
        "\n",
        "import warnings\n",
        "warnings.filterwarnings(\"ignore\")\n",
        "\n",
        "import category_encoders as ce\n",
        "#from category_encoders import WOEEncoder\n",
        "from sklearn.metrics import accuracy_score, balanced_accuracy_score\n",
        "from sklearn.metrics import confusion_matrix\n",
        "from sklearn.metrics import classification_report\n",
        "\n",
        "from sklearn.compose import ColumnTransformer\n",
        "#from category_encoders import TargetEncoder, LeaveOneOutEncoder, JamesSteinEncoder, MEstimateEncoder\n",
        "\n",
        "from mlxtend.evaluate import confusion_matrix\n",
        "from mlxtend.plotting import plot_confusion_matrix\n",
        "from mlxtend.plotting import plot_decision_regions\n",
        "from sklearn.preprocessing import MinMaxScaler\n",
        "from mlxtend.evaluate import feature_importance_permutation\n",
        "from sklearn.experimental import enable_hist_gradient_boosting \n",
        "#from sklearn.ensemble import AdaBoostClassifier, GradientBoostingClassifier, HistGradientBoostingClassifier\n",
        "\n",
        "from sklearn.svm import SVC\n",
        "import gc; gc.enable()\n",
        "\n",
        "import xgboost as xgb\n",
        "from xgboost import XGBClassifier\n",
        "\n",
        "#from sklearn.neighbors import KNeighborsClassifier\n",
        "#import lightgbm as lgb\n",
        "#from lightgbm import LGBMClassifier"
      ],
      "execution_count": 127,
      "outputs": [
        {
          "output_type": "stream",
          "name": "stdout",
          "text": [
            "Requirement already satisfied: category_encoders in /usr/local/lib/python3.7/dist-packages (2.2.2)\n",
            "Requirement already satisfied: numpy>=1.14.0 in /usr/local/lib/python3.7/dist-packages (from category_encoders) (1.19.5)\n",
            "Requirement already satisfied: pandas>=0.21.1 in /usr/local/lib/python3.7/dist-packages (from category_encoders) (1.1.5)\n",
            "Requirement already satisfied: patsy>=0.5.1 in /usr/local/lib/python3.7/dist-packages (from category_encoders) (0.5.1)\n",
            "Requirement already satisfied: scikit-learn>=0.20.0 in /usr/local/lib/python3.7/dist-packages (from category_encoders) (0.22.2.post1)\n",
            "Requirement already satisfied: statsmodels>=0.9.0 in /usr/local/lib/python3.7/dist-packages (from category_encoders) (0.10.2)\n",
            "Requirement already satisfied: scipy>=1.0.0 in /usr/local/lib/python3.7/dist-packages (from category_encoders) (1.4.1)\n",
            "Requirement already satisfied: python-dateutil>=2.7.3 in /usr/local/lib/python3.7/dist-packages (from pandas>=0.21.1->category_encoders) (2.8.2)\n",
            "Requirement already satisfied: pytz>=2017.2 in /usr/local/lib/python3.7/dist-packages (from pandas>=0.21.1->category_encoders) (2018.9)\n",
            "Requirement already satisfied: six in /usr/local/lib/python3.7/dist-packages (from patsy>=0.5.1->category_encoders) (1.15.0)\n",
            "Requirement already satisfied: joblib>=0.11 in /usr/local/lib/python3.7/dist-packages (from scikit-learn>=0.20.0->category_encoders) (1.0.1)\n"
          ]
        }
      ]
    },
    {
      "cell_type": "code",
      "metadata": {
        "id": "o-yQvbrqVQX3"
      },
      "source": [
        "cat_col = ['basin','region_code','extraction_type','management','payment_type','source','source_class','waterpoint_type','scheme_management','funder','quality_group','quantity_group','permit','construction_year']\n",
        "num_col = ['gps_height','longitude','latitude','district_code','population']  #,'public_meeting','permit'\n"
      ],
      "execution_count": 128,
      "outputs": []
    },
    {
      "cell_type": "markdown",
      "metadata": {
        "id": "5BjFnbKVWGby"
      },
      "source": [
        "Making Pipeline / Baseline¶\n"
      ]
    },
    {
      "cell_type": "code",
      "metadata": {
        "id": "4TZYBhpbg_up"
      },
      "source": [
        "target_status_group = {'functional':0, \n",
        "                   'non functional': 2, \n",
        "                   'functional needs repair': 1} \n",
        "df_train_labels['status_group'] = df_train_labels['status_group'].replace(target_status_group)"
      ],
      "execution_count": 129,
      "outputs": []
    },
    {
      "cell_type": "code",
      "metadata": {
        "id": "TjKR1oVaWJZT"
      },
      "source": [
        "# Dividing X and target \n",
        "used_cols = [c for c in df_train_set.columns.tolist()]\n",
        "X=df_train_set[used_cols]\n",
        "y=df_train_labels['status_group']"
      ],
      "execution_count": 130,
      "outputs": []
    },
    {
      "cell_type": "code",
      "metadata": {
        "id": "336DoxjUWPL9"
      },
      "source": [
        "# to divide our X and y to test and train\n",
        "X_train, X_test, y_train, y_test = train_test_split(X, y, test_size=0.1, random_state=42)"
      ],
      "execution_count": 131,
      "outputs": []
    },
    {
      "cell_type": "code",
      "metadata": {
        "id": "BXg4tKEtWUCS"
      },
      "source": [
        "df_results = pd.DataFrame(columns=[\"Model\", \"Scaler\",'Encoder',\n",
        "                                   'roc_auc score mean', 'roc_auc score std']) # to see all results"
      ],
      "execution_count": 132,
      "outputs": []
    },
    {
      "cell_type": "code",
      "metadata": {
        "colab": {
          "base_uri": "https://localhost:8080/"
        },
        "id": "lrABRee-WfD3",
        "outputId": "ed80f834-81bc-493a-e54e-01ecb8d0bb58"
      },
      "source": [
        "#making pipeline\n",
        "\n",
        "scaler = RobustScaler()\n",
        "encoder = ce.TargetEncoder(cols=cat_col)\n",
        "\n",
        "# putting numeric columns to scaler and categorical to encoder\n",
        "num_transformer = make_pipeline(scaler)\n",
        "cat_transformer = make_pipeline(encoder)\n",
        "\n",
        "# getting together our scaler and encoder with preprocessor\n",
        "preprocessor = ColumnTransformer(\n",
        "      transformers=[('num', num_transformer, num_col),\n",
        "                    ('cat', cat_transformer, cat_col)])#('cat', cat_transformer, cat_col)\n",
        "\n",
        "\n",
        "# choosing model\n",
        "#lr = LogisticRegression(class_weight = 'balanced', solver = 'lbfgs', random_state=42)     #0.5980, submission2\n",
        "#rf = RandomForestClassifier(n_estimators=1000, random_state=42, n_jobs=-1, criterion= 'entropy',max_features= 'sqrt',min_samples_split= 10,class_weight='balanced') #0.5980, submission3\n",
        "#xgb = XGBClassifier(objective = 'multi:softmax', booster = 'gbtree', nrounds = 'min.error.idx',         #0.7942\n",
        "                      #num_class = 3, maximize = False, eval_metric = 'merror',early_stopping_rounds=10,\n",
        "                        #eta = .1,max_depth = 12, colsample_bytree = .4, learning_rate = 0.1,\n",
        "                       # max_delta_step=1)\n",
        "xgb_smote = XGBClassifier(objective = 'multi:softmax', booster = 'gbtree', nrounds = 'min.error.idx',                  #0.7991\n",
        "                      num_class = 3, maximize = False, eval_metric = 'merror', eta = .1,\n",
        "                      max_depth = 24, colsample_bytree = .4, n_jobs = -1,learning_rate = 0.05,\n",
        "                      early_stopping_rounds=10)\n",
        "\n",
        "# giving all values to pipeline\n",
        "pipe = make_pipeline(preprocessor,xgb_smote)\n",
        "pipe.fit(X_train, y_train)\n",
        "\n",
        "\n",
        "# make predictions on training set\n",
        "y_pred = pipe.predict(X_train)\n",
        "\n",
        "# make predictions on test set\n",
        "y_pred_test = pipe.predict(X_test)\n",
        "\n",
        "# to print the results in good way\n",
        "print(\"Accuracy:\"); print(\"=\"*len(\"Accuracy:\"))\n",
        "print(f\"TRAIN: {accuracy_score(y_train, y_pred)}\")\n",
        "print(f\"TEST: {accuracy_score(y_test, y_pred_test)}\")\n",
        "\n",
        "print(\"\\nBalanced Accuracy:\"); print(\"=\"*len(\"Balanced Accuracy:\"))\n",
        "print(f\"TRAIN: {balanced_accuracy_score(y_train, y_pred)}\")\n",
        "print(f\"TEST: {balanced_accuracy_score(y_test, y_pred_test)}\")"
      ],
      "execution_count": 133,
      "outputs": [
        {
          "output_type": "stream",
          "name": "stdout",
          "text": [
            "Accuracy:\n",
            "=========\n",
            "TRAIN: 0.9818368873924429\n",
            "TEST: 0.7929292929292929\n",
            "\n",
            "Balanced Accuracy:\n",
            "==================\n",
            "TRAIN: 0.9511574896487573\n",
            "TEST: 0.6494735562547053\n"
          ]
        }
      ]
    },
    {
      "cell_type": "code",
      "metadata": {
        "colab": {
          "base_uri": "https://localhost:8080/",
          "height": 279
        },
        "id": "hrZ4HIsdWkgN",
        "outputId": "e5d49298-cbd4-4e6b-bf70-c05ad0631f3c"
      },
      "source": [
        "\n",
        "# to plot and understand confusion matrix\n",
        "cm = confusion_matrix(y_test, y_pred_test)\n",
        "plot_confusion_matrix(cm)\n",
        "plt.show()"
      ],
      "execution_count": 134,
      "outputs": [
        {
          "output_type": "display_data",
          "data": {
            "image/png": "[encoded data removed]",
            "text/plain": [
              "<Figure size 432x288 with 1 Axes>"
            ]
          },
          "metadata": {
            "needs_background": "light"
          }
        }
      ]
    },
    {
      "cell_type": "code",
      "metadata": {
        "colab": {
          "base_uri": "https://localhost:8080/"
        },
        "id": "rI3MDoSw6QlO",
        "outputId": "f119cef6-68b1-4f38-bc46-c70dcfb20b44"
      },
      "source": [
        "df_test_set.info()"
      ],
      "execution_count": 135,
      "outputs": [
        {
          "output_type": "stream",
          "name": "stdout",
          "text": [
            "<class 'pandas.core.frame.DataFrame'>\n",
            "RangeIndex: 14850 entries, 0 to 14849\n",
            "Data columns (total 24 columns):\n",
            " #   Column             Non-Null Count  Dtype  \n",
            "---  ------             --------------  -----  \n",
            " 0   id                 14850 non-null  int64  \n",
            " 1   amount_tsh         14850 non-null  float64\n",
            " 2   date_recorded      14850 non-null  object \n",
            " 3   funder             14850 non-null  object \n",
            " 4   gps_height         14850 non-null  int64  \n",
            " 5   longitude          14850 non-null  float64\n",
            " 6   latitude           14850 non-null  float64\n",
            " 7   basin              14850 non-null  object \n",
            " 8   region_code        14850 non-null  int64  \n",
            " 9   district_code      14850 non-null  int64  \n",
            " 10  population         14850 non-null  int64  \n",
            " 11  public_meeting     14850 non-null  int64  \n",
            " 12  scheme_management  14850 non-null  object \n",
            " 13  permit             14850 non-null  int64  \n",
            " 14  construction_year  14850 non-null  int64  \n",
            " 15  extraction_type    14850 non-null  object \n",
            " 16  management         14850 non-null  object \n",
            " 17  payment_type       14850 non-null  int64  \n",
            " 18  quality_group      14850 non-null  int64  \n",
            " 19  quantity_group     14850 non-null  int64  \n",
            " 20  source             14850 non-null  object \n",
            " 21  source_class       14850 non-null  object \n",
            " 22  waterpoint_type    14850 non-null  object \n",
            " 23  decade             14850 non-null  object \n",
            "dtypes: float64(3), int64(11), object(10)\n",
            "memory usage: 2.7+ MB\n"
          ]
        }
      ]
    },
    {
      "cell_type": "code",
      "metadata": {
        "id": "hbGf9pL5YAwq"
      },
      "source": [
        "\n",
        "result = pipe.predict(df_test_set)"
      ],
      "execution_count": 136,
      "outputs": []
    },
    {
      "cell_type": "code",
      "metadata": {
        "id": "9fj59qaMFVDn"
      },
      "source": [
        "final = pd.read_csv('final_model.csv') #test set  data\n"
      ],
      "execution_count": 137,
      "outputs": []
    },
    {
      "cell_type": "code",
      "metadata": {
        "id": "bRf1nbnuG5GO"
      },
      "source": [
        "target_status_group = {'functional':0, \n",
        "                   'non functional': 2, \n",
        "                   'functional needs repair': 1} \n",
        "final['status_group'] = final['status_group'].replace(target_status_group)"
      ],
      "execution_count": 138,
      "outputs": []
    },
    {
      "cell_type": "code",
      "metadata": {
        "id": "ncvn2oOsHbjO"
      },
      "source": [
        "label=final['status_group']"
      ],
      "execution_count": 139,
      "outputs": []
    },
    {
      "cell_type": "code",
      "metadata": {
        "colab": {
          "base_uri": "https://localhost:8080/"
        },
        "id": "2BMNEOShExkk",
        "outputId": "2d207a88-99cb-449a-ea0c-9537a854ed0b"
      },
      "source": [
        "print(f\"TEST: {accuracy_score(label, result)}\")"
      ],
      "execution_count": 140,
      "outputs": [
        {
          "output_type": "stream",
          "name": "stdout",
          "text": [
            "TEST: 0.8998653198653198\n"
          ]
        }
      ]
    },
    {
      "cell_type": "code",
      "metadata": {
        "id": "kl1iKQqmhXpY"
      },
      "source": [
        "mapping = {0:'functional', \n",
        "                   2:'non functional', \n",
        "                   1:'functional needs repair'} \n",
        "translate = lambda x: mapping.get(x, x)\n",
        "result = np.vectorize(translate)(result)\n",
        "\n"
      ],
      "execution_count": 141,
      "outputs": []
    },
    {
      "cell_type": "code",
      "metadata": {
        "id": "mLSco_gAefFs"
      },
      "source": [
        "submission_df = pd.read_csv( \"SubmissionFormat.csv\")"
      ],
      "execution_count": 142,
      "outputs": []
    },
    {
      "cell_type": "code",
      "metadata": {
        "colab": {
          "base_uri": "https://localhost:8080/",
          "height": 204
        },
        "id": "Z9X9fAl8ewxQ",
        "outputId": "a5da6f17-2ebd-4c8a-8cea-6aba4d8161e4"
      },
      "source": [
        "submission_df.head()\n"
      ],
      "execution_count": 143,
      "outputs": [
        {
          "output_type": "execute_result",
          "data": {
            "text/html": [
              "<div>\n",
              "<style scoped>\n",
              "    .dataframe tbody tr th:only-of-type {\n",
              "        vertical-align: middle;\n",
              "    }\n",
              "\n",
              "    .dataframe tbody tr th {\n",
              "        vertical-align: top;\n",
              "    }\n",
              "\n",
              "    .dataframe thead th {\n",
              "        text-align: right;\n",
              "    }\n",
              "</style>\n",
              "<table border=\"1\" class=\"dataframe\">\n",
              "  <thead>\n",
              "    <tr style=\"text-align: right;\">\n",
              "      <th></th>\n",
              "      <th>id</th>\n",
              "      <th>status_group</th>\n",
              "    </tr>\n",
              "  </thead>\n",
              "  <tbody>\n",
              "    <tr>\n",
              "      <th>0</th>\n",
              "      <td>50785</td>\n",
              "      <td>predicted label</td>\n",
              "    </tr>\n",
              "    <tr>\n",
              "      <th>1</th>\n",
              "      <td>51630</td>\n",
              "      <td>predicted label</td>\n",
              "    </tr>\n",
              "    <tr>\n",
              "      <th>2</th>\n",
              "      <td>17168</td>\n",
              "      <td>predicted label</td>\n",
              "    </tr>\n",
              "    <tr>\n",
              "      <th>3</th>\n",
              "      <td>45559</td>\n",
              "      <td>predicted label</td>\n",
              "    </tr>\n",
              "    <tr>\n",
              "      <th>4</th>\n",
              "      <td>49871</td>\n",
              "      <td>predicted label</td>\n",
              "    </tr>\n",
              "  </tbody>\n",
              "</table>\n",
              "</div>"
            ],
            "text/plain": [
              "      id     status_group\n",
              "0  50785  predicted label\n",
              "1  51630  predicted label\n",
              "2  17168  predicted label\n",
              "3  45559  predicted label\n",
              "4  49871  predicted label"
            ]
          },
          "metadata": {},
          "execution_count": 143
        }
      ]
    },
    {
      "cell_type": "code",
      "metadata": {
        "id": "2GTDF8f2e4VH"
      },
      "source": [
        "# Make sure we have the rows in the same order\n",
        "np.testing.assert_array_equal(df_test_set['id'], \n",
        "                              submission_df['id'])\n",
        "\n",
        "# Save predictions to submission data frame\n",
        "submission_df[\"status_group\"] = result"
      ],
      "execution_count": 144,
      "outputs": []
    },
    {
      "cell_type": "code",
      "metadata": {
        "id": "yxjv3Tn1YE5z"
      },
      "source": [
        "submission_df.to_csv('submissions/my_submission.csv',index=False)\n"
      ],
      "execution_count": 145,
      "outputs": []
    }
  ]
}
